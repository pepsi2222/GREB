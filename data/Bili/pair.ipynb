{
 "cells": [
  {
   "cell_type": "code",
   "execution_count": 1,
   "metadata": {},
   "outputs": [
    {
     "name": "stderr",
     "output_type": "stream",
     "text": [
      "/data1/home/xingmei/.conda/envs/rec/lib/python3.11/site-packages/tqdm/auto.py:21: TqdmWarning: IProgress not found. Please update jupyter and ipywidgets. See https://ipywidgets.readthedocs.io/en/stable/user_install.html\n",
      "  from .autonotebook import tqdm as notebook_tqdm\n"
     ]
    }
   ],
   "source": [
    "import numpy as np\n",
    "from scipy.sparse import lil_matrix, save_npz, load_npz\n",
    "from multiprocessing import Pool, Manager, Value\n",
    "from tqdm import tqdm\n",
    "\n",
    "import os\n",
    "import sys\n",
    "sys.path.append('../..')\n",
    "sys.path.append('../../RecStudio')\n",
    "import pickle\n",
    "import numpy as np\n",
    "from data.MIND.process import MINDSeqDataset\n",
    "from dataset import CTRDataset\n",
    "from typing import Dict\n",
    "import torch\n",
    "import numpy as np\n",
    "from transformers import AutoModel, AutoTokenizer\n",
    "from sentence_transformers.util import cos_sim\n",
    "from collections import defaultdict\n",
    "import math\n",
    "\n",
    "BATCH_SIZE = 128\n",
    "MAX_LEN = 512\n",
    "MODEL_ID = '../../mxbai-embed-large-v1'"
   ]
  },
  {
   "cell_type": "code",
   "execution_count": 2,
   "metadata": {},
   "outputs": [],
   "source": [
    "category = 'Bili_2M'"
   ]
  },
  {
   "cell_type": "code",
   "execution_count": null,
   "metadata": {},
   "outputs": [],
   "source": [
    "# ----------------------------Get cosine similarity of co-occurence matrix -------------------------\n",
    "\n",
    "if not 'guide_model_text_embedding' in locals().keys():\n",
    "    guide_model_text_embedding = torch.load(f'guide_model_text_embeddings/{category}.pt')\n",
    "if not 'co_occurrence' in locals().keys():\n",
    "    co_occurrence = load_npz(f'co_occurrence/{category}.npz')\n",
    "    co_occurrence = co_occurrence.tocoo()\n",
    "\n",
    "sim = []\n",
    "for k in tqdm(range(len(co_occurrence.data))):\n",
    "    count = co_occurrence.data[i]\n",
    "    item_i = torch.tensor(co_occurrence.row[k], dtype=torch.int32)\n",
    "    item_j = torch.tensor(co_occurrence.col[k], dtype=torch.int32)\n",
    "    item_i_text_emb = guide_model_text_embedding(item_i)\n",
    "    item_j_text_emb = guide_model_text_embedding(item_j)\n",
    "    sim.append(cos_sim(item_i_text_emb, item_j_text_emb)[0][0].item())\n",
    "\n",
    "with open(f'cos_sim_of_co_occurence/{category}.pkl', 'wb') as f:\n",
    "    pickle.dump(sim, f)"
   ]
  },
  {
   "cell_type": "code",
   "execution_count": 3,
   "metadata": {},
   "outputs": [],
   "source": [
    "# ----------------------------------------Filter pairs-----------------------------------------------\n",
    "if not 'co_occurrence' in locals().keys():\n",
    "    co_occurrence = load_npz(f'co_occurrence/{category}.npz')\n",
    "    co_occurrence = co_occurrence.tocoo()\n",
    "if not 'sim' in locals().keys():\n",
    "    sim = pickle.load(open(f'cos_sim_of_co_occurence/{category}.pkl', 'rb'))"
   ]
  },
  {
   "cell_type": "code",
   "execution_count": 6,
   "metadata": {},
   "outputs": [
    {
     "data": {
      "text/plain": [
       "334673404"
      ]
     },
     "execution_count": 6,
     "metadata": {},
     "output_type": "execute_result"
    }
   ],
   "source": [
    "len(sim)"
   ]
  },
  {
   "cell_type": "code",
   "execution_count": 7,
   "metadata": {},
   "outputs": [
    {
     "data": {
      "text/plain": [
       "334673404"
      ]
     },
     "execution_count": 7,
     "metadata": {},
     "output_type": "execute_result"
    }
   ],
   "source": [
    "len(co_occurrence.data)"
   ]
  },
  {
   "cell_type": "code",
   "execution_count": 8,
   "metadata": {},
   "outputs": [
    {
     "data": {
      "text/plain": [
       "175990"
      ]
     },
     "execution_count": 8,
     "metadata": {},
     "output_type": "execute_result"
    }
   ],
   "source": [
    "len([_ for _ in co_occurrence.data if _ > 0.1])"
   ]
  },
  {
   "cell_type": "code",
   "execution_count": 9,
   "metadata": {},
   "outputs": [
    {
     "data": {
      "text/plain": [
       "6836"
      ]
     },
     "execution_count": 9,
     "metadata": {},
     "output_type": "execute_result"
    }
   ],
   "source": [
    "len([_ for _ in co_occurrence.data if _ > 0.3])"
   ]
  },
  {
   "cell_type": "code",
   "execution_count": 10,
   "metadata": {},
   "outputs": [
    {
     "data": {
      "text/plain": [
       "756"
      ]
     },
     "execution_count": 10,
     "metadata": {},
     "output_type": "execute_result"
    }
   ],
   "source": [
    "len([_ for _ in co_occurrence.data if _ > 0.5])"
   ]
  },
  {
   "cell_type": "code",
   "execution_count": 11,
   "metadata": {},
   "outputs": [
    {
     "data": {
      "text/plain": [
       "866920"
      ]
     },
     "execution_count": 11,
     "metadata": {},
     "output_type": "execute_result"
    }
   ],
   "source": [
    "len([_ for _ in sim if _ > 0.65])"
   ]
  },
  {
   "cell_type": "code",
   "execution_count": 12,
   "metadata": {},
   "outputs": [
    {
     "data": {
      "text/plain": [
       "26698"
      ]
     },
     "execution_count": 12,
     "metadata": {},
     "output_type": "execute_result"
    }
   ],
   "source": [
    "len([_ for _ in sim if _ > 0.8])"
   ]
  },
  {
   "cell_type": "code",
   "execution_count": 13,
   "metadata": {},
   "outputs": [
    {
     "data": {
      "text/plain": [
       "4994"
      ]
     },
     "execution_count": 13,
     "metadata": {},
     "output_type": "execute_result"
    }
   ],
   "source": [
    "len([_ for _ in sim if _ > 0.9])"
   ]
  },
  {
   "cell_type": "code",
   "execution_count": 14,
   "metadata": {},
   "outputs": [
    {
     "name": "stderr",
     "output_type": "stream",
     "text": [
      "  0%|          | 248869/334673404 [00:00<02:14, 2488502.52it/s]"
     ]
    },
    {
     "name": "stderr",
     "output_type": "stream",
     "text": [
      "100%|██████████| 334673404/334673404 [01:51<00:00, 2995549.48it/s]"
     ]
    },
    {
     "name": "stdout",
     "output_type": "stream",
     "text": [
      "Length of pairs: 12700\n"
     ]
    },
    {
     "name": "stderr",
     "output_type": "stream",
     "text": [
      "\n"
     ]
    }
   ],
   "source": [
    "CO_OCCURENCE_THRESHOLD = 0.2\n",
    "pairs = set()\n",
    "for i in tqdm(range(len(sim))):\n",
    "    if co_occurrence.data[i] > CO_OCCURENCE_THRESHOLD and \\\n",
    "        (co_occurrence.col[i], co_occurrence.row[i]) not in pairs and \\\n",
    "        (co_occurrence.row[i] != co_occurrence.col[i]):\n",
    "        pairs.add((co_occurrence.row[i], co_occurrence.col[i]))\n",
    "print(f\"Length of pairs: {len(pairs)}\")"
   ]
  },
  {
   "cell_type": "code",
   "execution_count": 4,
   "metadata": {},
   "outputs": [
    {
     "name": "stderr",
     "output_type": "stream",
     "text": [
      "  0%|          | 0/334673404 [00:00<?, ?it/s]"
     ]
    },
    {
     "name": "stderr",
     "output_type": "stream",
     "text": [
      "100%|██████████| 334673404/334673404 [01:46<00:00, 3139443.22it/s]"
     ]
    },
    {
     "name": "stdout",
     "output_type": "stream",
     "text": [
      "Length of pairs: 1305\n"
     ]
    },
    {
     "name": "stderr",
     "output_type": "stream",
     "text": [
      "\n"
     ]
    }
   ],
   "source": [
    "CO_OCCURENCE_THRESHOLD = 0.2\n",
    "COS_SIM_THRESHOLD = 0.7\n",
    "pairs_27 = set()\n",
    "for i in tqdm(range(len(sim))):\n",
    "    if co_occurrence.data[i] > CO_OCCURENCE_THRESHOLD and sim[i] > COS_SIM_THRESHOLD and \\\n",
    "        (co_occurrence.col[i], co_occurrence.row[i]) not in pairs_27 and \\\n",
    "        (co_occurrence.row[i] != co_occurrence.col[i]):\n",
    "        pairs_27.add((co_occurrence.row[i], co_occurrence.col[i]))\n",
    "print(f\"Length of pairs: {len(pairs_27)}\")"
   ]
  },
  {
   "cell_type": "code",
   "execution_count": 16,
   "metadata": {},
   "outputs": [
    {
     "name": "stderr",
     "output_type": "stream",
     "text": [
      "  0%|          | 555454/334673404 [00:00<01:58, 2827629.59it/s]"
     ]
    },
    {
     "name": "stderr",
     "output_type": "stream",
     "text": [
      "100%|██████████| 334673404/334673404 [01:41<00:00, 3300217.35it/s]"
     ]
    },
    {
     "name": "stdout",
     "output_type": "stream",
     "text": [
      "Length of pairs: 2051\n"
     ]
    },
    {
     "name": "stderr",
     "output_type": "stream",
     "text": [
      "\n"
     ]
    }
   ],
   "source": [
    "CO_OCCURENCE_THRESHOLD = 0.2\n",
    "COS_SIM_THRESHOLD = 0.65\n",
    "pairs_265 = set()\n",
    "for i in tqdm(range(len(sim))):\n",
    "    if co_occurrence.data[i] > CO_OCCURENCE_THRESHOLD and sim[i] > COS_SIM_THRESHOLD and \\\n",
    "        (co_occurrence.col[i], co_occurrence.row[i]) not in pairs_265 and \\\n",
    "        (co_occurrence.row[i] != co_occurrence.col[i]):\n",
    "        pairs_265.add((co_occurrence.row[i], co_occurrence.col[i]))\n",
    "print(f\"Length of pairs: {len(pairs_265)}\")"
   ]
  },
  {
   "cell_type": "code",
   "execution_count": 17,
   "metadata": {},
   "outputs": [
    {
     "name": "stderr",
     "output_type": "stream",
     "text": [
      "100%|██████████| 334673404/334673404 [01:41<00:00, 3295238.31it/s]"
     ]
    },
    {
     "name": "stdout",
     "output_type": "stream",
     "text": [
      "Length of pairs: 4427\n"
     ]
    },
    {
     "name": "stderr",
     "output_type": "stream",
     "text": [
      "\n"
     ]
    }
   ],
   "source": [
    "CO_OCCURENCE_THRESHOLD = 0.15\n",
    "COS_SIM_THRESHOLD = 0.65\n",
    "pairs_1565 = set()\n",
    "for i in tqdm(range(len(sim))):\n",
    "    if co_occurrence.data[i] > CO_OCCURENCE_THRESHOLD and sim[i] > COS_SIM_THRESHOLD and \\\n",
    "        (co_occurrence.col[i], co_occurrence.row[i]) not in pairs_1565 and \\\n",
    "        (co_occurrence.row[i] != co_occurrence.col[i]):\n",
    "        pairs_1565.add((co_occurrence.row[i], co_occurrence.col[i]))\n",
    "print(f\"Length of pairs: {len(pairs_1565)}\")"
   ]
  },
  {
   "cell_type": "code",
   "execution_count": 18,
   "metadata": {},
   "outputs": [
    {
     "name": "stderr",
     "output_type": "stream",
     "text": [
      "100%|██████████| 334673404/334673404 [01:41<00:00, 3303694.85it/s]"
     ]
    },
    {
     "name": "stdout",
     "output_type": "stream",
     "text": [
      "Length of pairs: 10989\n"
     ]
    },
    {
     "name": "stderr",
     "output_type": "stream",
     "text": [
      "\n"
     ]
    }
   ],
   "source": [
    "CO_OCCURENCE_THRESHOLD = 0.1\n",
    "COS_SIM_THRESHOLD = 0.65\n",
    "pairs_165 = set()\n",
    "for i in tqdm(range(len(sim))):\n",
    "    if co_occurrence.data[i] > CO_OCCURENCE_THRESHOLD and sim[i] > COS_SIM_THRESHOLD and \\\n",
    "        (co_occurrence.col[i], co_occurrence.row[i]) not in pairs_165 and \\\n",
    "        (co_occurrence.row[i] != co_occurrence.col[i]):\n",
    "        pairs_165.add((co_occurrence.row[i], co_occurrence.col[i]))\n",
    "print(f\"Length of pairs: {len(pairs_165)}\")"
   ]
  },
  {
   "cell_type": "code",
   "execution_count": 5,
   "metadata": {},
   "outputs": [
    {
     "name": "stderr",
     "output_type": "stream",
     "text": [
      "  0%|          | 152915/334673404 [00:00<03:38, 1528994.71it/s]"
     ]
    },
    {
     "name": "stderr",
     "output_type": "stream",
     "text": [
      "100%|██████████| 334673404/334673404 [01:39<00:00, 3374932.42it/s]"
     ]
    },
    {
     "name": "stdout",
     "output_type": "stream",
     "text": [
      "Length of pairs: 5907\n"
     ]
    },
    {
     "name": "stderr",
     "output_type": "stream",
     "text": [
      "\n"
     ]
    }
   ],
   "source": [
    "CO_OCCURENCE_THRESHOLD = 0.1\n",
    "COS_SIM_THRESHOLD = 0.7\n",
    "pairs_17 = set()\n",
    "for i in tqdm(range(len(sim))):\n",
    "    if co_occurrence.data[i] > CO_OCCURENCE_THRESHOLD and sim[i] > COS_SIM_THRESHOLD and \\\n",
    "        (co_occurrence.col[i], co_occurrence.row[i]) not in pairs_17 and \\\n",
    "        (co_occurrence.row[i] != co_occurrence.col[i]):\n",
    "        pairs_17.add((co_occurrence.row[i], co_occurrence.col[i]))\n",
    "print(f\"Length of pairs: {len(pairs_17)}\")"
   ]
  },
  {
   "cell_type": "code",
   "execution_count": 6,
   "metadata": {},
   "outputs": [
    {
     "name": "stderr",
     "output_type": "stream",
     "text": [
      "100%|██████████| 334673404/334673404 [01:40<00:00, 3335099.54it/s]"
     ]
    },
    {
     "name": "stdout",
     "output_type": "stream",
     "text": [
      "Length of pairs: 1662\n"
     ]
    },
    {
     "name": "stderr",
     "output_type": "stream",
     "text": [
      "\n"
     ]
    }
   ],
   "source": [
    "CO_OCCURENCE_THRESHOLD = 0.1\n",
    "COS_SIM_THRESHOLD = 0.8\n",
    "pairs_18 = set()\n",
    "for i in tqdm(range(len(sim))):\n",
    "    if co_occurrence.data[i] > CO_OCCURENCE_THRESHOLD and sim[i] > COS_SIM_THRESHOLD and \\\n",
    "        (co_occurrence.col[i], co_occurrence.row[i]) not in pairs_18 and \\\n",
    "        (co_occurrence.row[i] != co_occurrence.col[i]):\n",
    "        pairs_18.add((co_occurrence.row[i], co_occurrence.col[i]))\n",
    "print(f\"Length of pairs: {len(pairs_18)}\")"
   ]
  },
  {
   "cell_type": "code",
   "execution_count": 20,
   "metadata": {},
   "outputs": [],
   "source": [
    "with open(f'pairs/{category}.pkl', 'wb') as f:\n",
    "    pickle.dump(pairs_165, f)"
   ]
  },
  {
   "cell_type": "code",
   "execution_count": null,
   "metadata": {},
   "outputs": [],
   "source": [
    "with open(f'pairs/{category}.pkl', 'wb') as f:\n",
    "    pickle.dump(pairs_27, f)"
   ]
  },
  {
   "cell_type": "code",
   "execution_count": null,
   "metadata": {},
   "outputs": [],
   "source": [
    "with open(f'pairs/{category}_1_7.pkl', 'wb') as f:\n",
    "    pickle.dump(pairs_17, f)"
   ]
  },
  {
   "cell_type": "code",
   "execution_count": null,
   "metadata": {},
   "outputs": [],
   "source": [
    "with open(f'pairs/{category}_1_8.pkl', 'wb') as f:\n",
    "    pickle.dump(pairs_18, f)"
   ]
  },
  {
   "cell_type": "markdown",
   "metadata": {},
   "source": [
    "# Stats pairs distribution"
   ]
  },
  {
   "cell_type": "code",
   "execution_count": 3,
   "metadata": {},
   "outputs": [],
   "source": [
    "with open(f'pairs/{category}.pkl', 'rb') as f:\n",
    "    pairs_165 = pickle.load(f)"
   ]
  },
  {
   "cell_type": "code",
   "execution_count": 4,
   "metadata": {},
   "outputs": [
    {
     "data": {
      "text/plain": [
       "1571"
      ]
     },
     "execution_count": 4,
     "metadata": {},
     "output_type": "execute_result"
    }
   ],
   "source": [
    "from collections import defaultdict\n",
    "item_cnt = defaultdict(int)\n",
    "for i, j in pairs_165:\n",
    "    item_cnt[i] += 1\n",
    "    item_cnt[j] += 1\n",
    "len(item_cnt.keys())"
   ]
  },
  {
   "cell_type": "code",
   "execution_count": 5,
   "metadata": {},
   "outputs": [
    {
     "name": "stderr",
     "output_type": "stream",
     "text": [
      "100%|██████████| 1571/1571 [00:01<00:00, 978.54it/s] \n"
     ]
    },
    {
     "data": {
      "text/plain": [
       "tensor(0.4150, device='cuda:0')"
      ]
     },
     "execution_count": 5,
     "metadata": {},
     "output_type": "execute_result"
    }
   ],
   "source": [
    "all_items = torch.tensor(list(item_cnt.keys()))\n",
    "\n",
    "if not 'guide_model_text_embedding' in locals().keys():\n",
    "    guide_model_text_embedding = torch.load(f'guide_model_text_embeddings/{category}.pt')\n",
    "guide_model_text_embedding = guide_model_text_embedding.cuda()\n",
    "\n",
    "sim = 0\n",
    "cnt = 0\n",
    "for i in tqdm(range(len(all_items))):\n",
    "    item_i = all_items[i].unsqueeze(-1).cuda()\n",
    "    emb_i = guide_model_text_embedding(item_i)\n",
    "    emb_i = torch.nn.functional.normalize(emb_i, p=2, dim=1)\n",
    "    item_j = all_items[i + 1:]\n",
    "    for start in range(0, len(item_j), BATCH_SIZE):\n",
    "        end = min(start + BATCH_SIZE, len(all_items))\n",
    "        batch_item_j = item_j[start:end].cuda()\n",
    "        emb_j = guide_model_text_embedding(batch_item_j)\n",
    "        emb_j = torch.nn.functional.normalize(emb_j, p=2, dim=1)\n",
    "        sim += (emb_i * emb_j).sum()\n",
    "        cnt += end - start\n",
    "\n",
    "avg_sim = sim / cnt\n",
    "avg_sim"
   ]
  }
 ],
 "metadata": {
  "kernelspec": {
   "display_name": "rec",
   "language": "python",
   "name": "python3"
  },
  "language_info": {
   "codemirror_mode": {
    "name": "ipython",
    "version": 3
   },
   "file_extension": ".py",
   "mimetype": "text/x-python",
   "name": "python",
   "nbconvert_exporter": "python",
   "pygments_lexer": "ipython3",
   "version": "3.11.3"
  }
 },
 "nbformat": 4,
 "nbformat_minor": 2
}
