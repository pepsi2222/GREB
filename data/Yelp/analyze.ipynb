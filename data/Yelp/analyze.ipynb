{
 "cells": [
  {
   "cell_type": "markdown",
   "metadata": {},
   "source": [
    "## examples"
   ]
  },
  {
   "cell_type": "code",
   "execution_count": 2,
   "metadata": {},
   "outputs": [
    {
     "data": {
      "text/plain": [
       "{'business_id': '1MeIwdbTnZOBFCKOrgaxuw',\n",
       " 'name': \"Ricardo's Italian Cafe\",\n",
       " 'address': '1931 Park Ave',\n",
       " 'city': 'Saint Louis',\n",
       " 'state': 'MO',\n",
       " 'postal_code': '63104',\n",
       " 'latitude': 38.6172724,\n",
       " 'longitude': -90.2127841,\n",
       " 'stars': 3.5,\n",
       " 'review_count': 80,\n",
       " 'is_open': 0,\n",
       " 'attributes': {'OutdoorSeating': 'False',\n",
       "  'BusinessAcceptsCreditCards': 'True',\n",
       "  'RestaurantsReservations': 'True',\n",
       "  'RestaurantsAttire': \"u'casual'\",\n",
       "  'RestaurantsTakeOut': 'True',\n",
       "  'Alcohol': \"u'full_bar'\",\n",
       "  'RestaurantsPriceRange2': '2',\n",
       "  'GoodForKids': 'True',\n",
       "  'Caters': 'False',\n",
       "  'RestaurantsDelivery': 'False',\n",
       "  'RestaurantsGoodForGroups': 'True',\n",
       "  'Ambience': \"{'romantic': False, 'intimate': False, 'touristy': False, 'hipster': False, 'divey': False, 'classy': False, 'trendy': False, 'upscale': False, 'casual': True}\",\n",
       "  'WiFi': \"'no'\",\n",
       "  'BikeParking': 'True',\n",
       "  'BusinessParking': \"{'garage': False, 'street': True, 'validated': False, 'lot': False, 'valet': False}\",\n",
       "  'NoiseLevel': \"u'average'\",\n",
       "  'HasTV': 'True',\n",
       "  'HappyHour': 'True'},\n",
       " 'categories': 'American (New), Restaurants, Cafes, Italian, American (Traditional)',\n",
       " 'hours': {'Monday': '11:0-14:0',\n",
       "  'Tuesday': '16:0-21:0',\n",
       "  'Wednesday': '16:0-21:0',\n",
       "  'Thursday': '16:0-21:0',\n",
       "  'Friday': '16:0-22:0',\n",
       "  'Saturday': '17:30-22:0'}}"
      ]
     },
     "execution_count": 2,
     "metadata": {},
     "output_type": "execute_result"
    }
   ],
   "source": [
    "import os\n",
    "import subprocess\n",
    "import json\n",
    "\n",
    "line_number = 100\n",
    "json.loads(subprocess.run(f\"sed -n '{line_number}{{p;q;}}' business.json\", shell=True, check=True, stdout=subprocess.PIPE, stderr=subprocess.PIPE, text=True).stdout)"
   ]
  },
  {
   "cell_type": "code",
   "execution_count": 4,
   "metadata": {},
   "outputs": [
    {
     "data": {
      "text/plain": [
       "{'business_id': 'Pns2l4eNsfO8kk83dixA6A',\n",
       " 'name': 'Abby Rappoport, LAC, CMQ',\n",
       " 'address': '1616 Chapala St, Ste 2',\n",
       " 'city': 'Santa Barbara',\n",
       " 'state': 'CA',\n",
       " 'postal_code': '93101',\n",
       " 'latitude': 34.4266787,\n",
       " 'longitude': -119.7111968,\n",
       " 'stars': 5.0,\n",
       " 'review_count': 7,\n",
       " 'is_open': 0,\n",
       " 'attributes': {'ByAppointmentOnly': 'True'},\n",
       " 'categories': 'Doctors, Traditional Chinese Medicine, Naturopathic/Holistic, Acupuncture, Health & Medical, Nutritionists',\n",
       " 'hours': None}"
      ]
     },
     "execution_count": 4,
     "metadata": {},
     "output_type": "execute_result"
    }
   ],
   "source": [
    "json.loads(subprocess.run(f\"sed -n '{1}{{p;q;}}' business.json\", shell=True, check=True, stdout=subprocess.PIPE, stderr=subprocess.PIPE, text=True).stdout)"
   ]
  },
  {
   "cell_type": "code",
   "execution_count": 3,
   "metadata": {},
   "outputs": [
    {
     "data": {
      "text/plain": [
       "{'review_id': 'gImS1dtA_TixEouDfp2o4g',\n",
       " 'user_id': 'xE7AXFF9wVaN6id6OCtH3Q',\n",
       " 'business_id': 'D5V0Fawd6ODVgqCY8xngsw',\n",
       " 'stars': 4.0,\n",
       " 'useful': 1,\n",
       " 'funny': 0,\n",
       " 'cool': 2,\n",
       " 'text': 'I have been to a number of dog friendly hotels...just not in the city and did not know what to expect. Usually they are motel like.  This one was in the heart of the city.\\n\\nI walked tentatively into the hotel lobby as i have a labrador/golden mix who is not easy to hide.\\n\\nWe got to the front desk to register and i was still feeling uneasy although my  bf had assured me it was a dog friendly hotel. Reception was so nice immediately putting us at ease. As we checked in an attendant asked if Bentley could have treats which she fullly enjoyed. The Reception person also asked if we would like a welcome kit for Bentley. Holy moly. Of course. Dog dishes, a mat, treats, etc. I was blown away.  \\n\\nPlus the guests at the hotel all stopped to compliment and pet \"queen Bentley\". Our room was on the top floor. Awesome!\\n\\nEven when i went to walk her the car attendants greeted her by name. We were so impressed with the service we decided to come back an extra night. \\n\\nThank you Loews. I didnt realize a hotel could be so dog friendly especially to a big dog.',\n",
       " 'date': '2017-01-14 21:05:04'}"
      ]
     },
     "execution_count": 3,
     "metadata": {},
     "output_type": "execute_result"
    }
   ],
   "source": [
    "json.loads(subprocess.run(f\"sed -n '{line_number}{{p;q;}}' review.json\", shell=True, check=True, stdout=subprocess.PIPE, stderr=subprocess.PIPE, text=True).stdout)"
   ]
  },
  {
   "cell_type": "code",
   "execution_count": 5,
   "metadata": {},
   "outputs": [
    {
     "data": {
      "text/plain": [
       "{'user_id': 'UQFE3BT1rsIYrcDvu_XVow',\n",
       " 'name': 'Mike',\n",
       " 'review_count': 1560,\n",
       " 'yelping_since': '2005-07-22 23:17:54',\n",
       " 'useful': 2385,\n",
       " 'funny': 1288,\n",
       " 'cool': 1410,\n",
       " 'elite': '2006,2007,2008,2009,2010,2011,2012,2013,2014,2015,2016,2017,2018,2019,20,20,2021',\n",
       " 'friends': '8l58FCsSrkxxyyexhoU0WA, 1-oZsNLPY4vmCLj24TOc-g, -zhBZ-zuY1gerE4d9Frsag, vC3aWwJi36gL8G1DMFBA2Q, At_MJY-9pvmYfraeDLAl1w, dTcYw_RuYUm-j83emwDnUQ, WF1o6AyXm6-NovD5dFnMOg, Oi1qbcz2m2SnwUeztGYcnQ, bkxNaCXjfnhYt8JwzZThCA, Xdd4W3hp7owxCprqQaVV0Q, zuv_KR4FTe73v7_kTLqp4g, itmb9uAolzQnmEBDlV24qQ, s00U0pU5jHDAKga5gryqLw, ig5IJbIuq-gopoPIEUlm1w, _GstI1h8DjHZEUW9EPT85g, AHKSSaeYZ8h4nOXm5tyWzg, TZExGajxC02oetl7iQ77eg, 3lReKDMXHjTs8RhrTQnVGg, gji92ao5NAIrb3akKyqTZQ, Hz0BxGqKCYvUEbMZoO0h0w, mkaGi9drcXLg-YZe7JYaWw, q3A2T4SjVtWiTyWCzCWGXA, 7TfVV64bpESXSalEuVQurw, WwmV89BEq9-d7wXZbYtVnw, L6VIzHpEocO7Hh-GjfYnWg, rbGGA38rHXWgrZkzkf6ATg, fNPYrtY2WbjYidrZw7R9Xg, dfYNTBw--CYlZbFz581kYQ, gGuAM6Cw1VXJGLssm24ehA, ZeQjzs-C7dJIVRGtOP0jgQ, yOS1OJjmi5QvFzo_KbJuZA, RcVajkC06xlDNr1208bRSQ, ckQyi6cnOyLE1LWrfn-qww, edo7IT_xo6TprcrfOUNfdw, 6jfssS3JLnGyfBJXQScRrw, vyjrqu9R91y80yr_CdM_8w, Sj0vnbsXfvfpNIY4gE457Q, UuM7grHT7EKz3f2rF3wJVg, JsKX_lPX1IEvL6egQILlAQ, 9r-Z59v4Hj5InNu01kSdtQ, 8lOracR1RGUyNaWB8-6wTw, iYYsZ78iPk6H6Q5xukPoXw, H4JNrBAoyCk_ZMZWbAf8OA, IX4Er8LywYgVrRSmg1XMCQ, vWpe19iYR30nE8JvBtjwKg, j829wGXFWo1w48NPQI8wRw, iLjMdZi0Tm7DQxX1C1_2dg, I9nz8t9uzQ_O6-mzEmQutg, 8Em3ev0XO2PItm0hsXPZ5Q, XoG4T-IuiGOrK1w5ACtpQg, jPwRemJ3wjd0wlGvkT5FuQ, nKBKQlN1UjFh5bORqcn_Mw, -3UWI2WpnfIGANuHNjUG5A, ibx0qLcQD4x1z43-3PBLbA, E9tZkCBQHULdssNWzSE5fQ, wtVJTQCX1w7SOqmYg_4Cjw, TBEiWGQoVXCq5sYuOzeBkw, F6zyliNColYZiyNF3H5Y0A, _Idlsaw2hXJN8NtNWamt2Q, rCx7tb3toOJUsvdOeqYY0g, MW5yJ20UFL2zpmajGP37JA, CsqVZWpb4OxDnKGKBpb9dQ, wwgXWXzSmcTh_mk8QHsGXg, AT0ScaQTAyKln6IwklvpuA, yGHP5LUQe73kOvYQZF6Dqg, hBicl52tMVsTecdZSVL-lQ, d9qn7CSNzC_yuyvXIyoMsQ, INi56PgdBBxz0i_V_-_cGg, HM8mOekJ028ck9yfTpldPw, 8e87PNPHUKWd7EDqAtjGNQ, hSD2Lu8Z_62klnMDND5sSg, Wx7cbLDqYEL3_aVZwh82Ww, 3DymfMiEis5Ie3A788g0Og, LVcbO8YWYz9WjHLBXN6jpQ, KLqrnYu6y03sa_Zid4xT7g, Fq_6LFg0g9ARL_r4c7sqTg, FRSoGLPQI16pus03avyaSA, -rIs2HNODPjyrtd5zq3E1g, 6ZFw_QPW18W6p_Wq71NwRA, KMmKDQEAK8ClGnHug_5H_g, RUMwNN5U7RRPsEOmeAdBDQ, sIxLoeTM4t9Ck10mCZh5eg, 8zA0SRLq55YaxRNWxPFYrA, 7BRFUOH4Gus4wmykkKhbEg, v3FadeRQY05oyNU2ergoQw, saSEAcrqiSqaE9bYphKimg, VBmxc-Xe4b_sQyQA-S566w, jHl7eflsfWcG3fFdoRRRSQ, 7LV4cC9C-5ZT1Ei5OIKcKg, KvU_tQAIclYNOLs3s8ydxw, VpREWOjt5Pna6OIgXI9Jcg, iLCi3nWlB8fBlNweAKQ9YA, wy4NZPGAonzuz9RzSDtDNA, LPbpq2mlDxHo_dDObvIH3w, 0-CLZpQJq78nZf_nTJmTDQ, dE9YaRaUtkDm-xJrW3BSPg, L8FyLvIxMwqQmSQb0hzFMg, GIL4XSLZguuukqZFRxHq_g, xIi1whPhlngewfOSTv_PMQ, ssXAz7RahuYNDx7FeRe4Aw, BHDBfx4mWOdtT-ug0CPc3w, -VNH4rwV5aXD_cjCKbrk1Q, k6HN0FE8NC8vV1sZuu0O4g, CqPhzVCCHlkCwc6GQvIDVA, 79Ysdor4gS8cJVamqPkhew, t584yTm5Vi9F7NUqWvO2UQ, LxfcCN_f8kyVhrtbeDpedQ, J1fI7-aTQlmSoi87gH1AmQ, NN5jldDW0Puf8E3ZZjKqsg, qr3MYNEtnxBvB8NOtuW0Gw, 4RlzFohEgBdFXUGoqvpZqQ, Ffa1cXIvFAy8H1sorICaiQ, fMBA_z1hwURKp9uArgSmKA, -0Nvk7jIo79LaxChQtDyLA, _vgQ8aaBUMLQpJfJ5m-dwg, WUrP2e3c4UnfOvrZw9mpNw, BMXfgZJ5SgQjNRJ93dMRFQ, H5wqGJVwihWTC7GMxjH1Xg, UaEPiHV5Cm6fDwuY6N4pyQ, 5G7SuKXxeVPXC1_AiqM8vQ, 3CwMwbY9UgP-qvTDxNs_0g, aIISk4lrzKp6rQJpgwj_fg, ZPXAvRUG-rQNEMLVQnZ5lA, R9FsuO_Np2nChWAdyNEaEA, J6qlvm3Z8IQNj5pFrpYnSA, Q3cs9ChMUrRxlD7Huui7Lw, BJ9iw2GKk-xKyy855V0upA, kC3e1dOyWNKXG1hzV8v3sA, dIIKEfOgo0KqUfGQvGikPg, hVXJ8ag9djpzQqvd6jvNTw, 1kdfj_PaRk8i870ghdIvXg, t5yVLMzXlERu3aV-xGLtVw, qakBbQ9CSlxv6voYxKQ9ow, Cfg_U1xrTNrGgBZm2Leauw, U7mLobEKA13olpOvU8MurQ, PVfhkvb1bunutI6DAZfw3A, Dw6yia0s2PgLOzaFTBNGwA, 8oKF-_kcN1sQxKUnYSDkGA, TEyl8ytmy2KoiHLAZk4HDw, qMC2yh1KqnzfkQMX2apQUQ, Yd0hMS8bHCAmWULrQwW4Eg, 7Ac4z1Ev8B2PIbgoZyfiMw, h2OkNE2fuFQnYdb6AZZzrA, 47jYU6CunkW--4S9vYqyYg, YufI05DgqvOVwNgCvs0Big, m6p5knAyIS79s6WNbeIdGw, SBWy7wzlHokEdK4UGx3XsQ, 7U7MI0-KyE8QY4ov1lfsYw, fPVgOuJ4LoZN_YYjtrr6Yw, qKQ75AMN0RGZd5yKaCEiWw, Ytq1HaAK4Dc84UnShCnI6g, ba-WbH2sxdAZqjt64gHirw, pZPIY1Uh1q1sBc7r-XhinQ, iPP9VC7HZvJd88u0iRmGwQ, zmhRoEwumyJpXuGtB1zbKA, zDltf7SGyDANcA6ndZkF7A, DHs8No90RxNP6EQHHNEZvg, -13RX4Gy_F-zoLIenWAo-w, FBelk4JGoO0ZCFlfJzW3aQ, zQ_I8ReGEDnXj8sy_Gt3MA, xU5i8b84HnPi0qPm3HEmyQ, yLW8OrR8Ns4X1oXJmkKYgg, ubF4TKaWSNyJdkfQ0ArT6A, 33YKVVViczx5ml97kEChFg, aZdmnBhQrt6BiyX-LxfqBg, VRnivjRWvwdBjOCQkHOv7w, jisQEtwfrOKBmssWoiXljg, XudjFedX5bw9Oof7oYXCQg, ZAlbHJhQUSVqMTe32qkchw, dr8B6rw-fTa3Uos63sJFzA, SDytcPY5fiuuDbTkPE8GyA, 2sLWH1DQjuxPgAICCGrSbQ, F262q88zc7zsdEeNCzcA0A, aVaa64zb_-d6VTY3XcXyIQ, Xj0O2l0bp633ebmG468aZw, k5ffQrG6KSG2MeG0bO_rNw, 0wFEhEe5RE7A7kLbufoRXA, 8KCgB2TbJewGoWTCCEW_AQ, hU9Gc0cdz9Rz9LIT1UFWYA, cU99pVg5IB9N4NkUz0IXVQ, TEMue_H3x28c4rXqzcNM3w, 1HM81n6n4iPIFU5d2Lokhw, wjR3wbFfjz2thNlKKZc7aA, 56vERWd2VPTfjytCQlSc6g, VoXB2nZoA6KdicU9rskb8Q, ScKFtSu1ajjXR-QKjXfIhg, rsW5CeBtf7pSkZFfrlFUgg, 9IYZc_sX7v939OhRGDjj-g, Q8V8JWWQNrpvD2bXC3cPpQ, JseBksW8DVL596kJ18GGpA, -FdXZxvcbw3isqx9PkzDrg, OXYtOFX9xXukagW5Ku5dfg, gAYp-W4vcn2Fw3YIIlSh8g, XY8YKtVkJg0tns4kl4F23Q, 9BoPpMPWLG0xPQ1w6SDwPQ, XpRfQFXFPLBxWdMi32_CSw, mcf4zqIEpkw_nLVmge7A-A, vfYIAv7T-slvrQVW2veSwA, oxl--iAcvMX2RWSqGZXcfQ, K00vevWekHhhIE5jbr37Nw, b0p3fOxJcZjB3iTl7zoqTA, C5g_7b8FtQnOfZvJGzE0XA, hHCPZz3qXDTo1rX_ZC9ZKA, VHdY6oG2JPVNjihWhOooAQ, 0eNKg-FIwGspY8dJ3qMfCQ, PHKZrobSgXBjvuBJrcn4hQ, vTugBdYg34rX4KvGpzBrNA, I_9FQ8ff2ppYYj63E9i6BA, d4qQk1L2SNnaOyGXNDBV9Q, CurDAfjJr9FXK2bM5BxnRw, Le88aN-E5fgPYxAwlQ7n-A, 7EU-i3qcsqSX2xHSFCBEaw, 9eWlzvVdLVLtT3IuUX5yjQ, W6EsbQRiiSSp-xwEAIeL7g, 1ljC2JgUafYC9wtEUXJ3bQ, 4-Dge7y6JstfaejmPjCqOA, HT5Du4f476PIix0esdIcXQ, IIFnYX-jhF4mKvzonYWVIg, 73epjzWNMhZNT-Kdgd6EAw, q2ENNX__OG2WpvG991TZhQ, yuW95jpipnokAZ97cESZUg, _PogIvICTS-uaZLXLX-OnQ, L2ffiznMDwF2qUrX5y02AA, QVAmRIrCxhYLqh7wl4Vlog, 94b0y-FFFIF8hy3SJgXd-g, ClKdkJlmu1tcZPrqWIuqYQ, Pc9TIdnI_dgds-4xGyQwsg, M271Ac7UKVaQ9U5AOvc_9A, t9D_q7XzeN6JXoAGTwyIJQ, 0x2Oijho3psSeSXbbq1bmQ, FQXOtoR3HYD22xvtxjU75g, AaR7_O8Gs8l3d9eNeYkPWQ, gGrEqXycpvdGn6PnkhZmHg, QgPGXQqSwxhEAY5zUq3aCg, O4VXTUdkBcoWC5oTxyIu_Q, XPOx-mCubVGQ1rRknztFtw, eB3rWRjsunrmYkO27A8-rw, 1kpMAKRZuAz3OzxBav3XTg, oQBbnY3W8FYYQpU0UGqjRQ, VNXfm-euq9Vtq9bK7Nkrqw, JlK9Frc8k6jQXuPCZK9JIw, 1FDJpePhiV7GBY1YWkFelw, Z-_GGRMi9Sa94oA0vZtXEA, P0wENWX4LNg84G-nsqcGFg, CRLA264qZO-IxB2gQOnJmg, eZKyqqZUG06YxG2N-9nhKQ, gRL9s6ENxV1qermRYDWjPQ, 2JIq3zlcBmFDRpcwy26q_Q, pyH81KhfrRn1G3ush6E1fw, uW3FaUrKsJB5xYlDdlDtUA, qsCCBfjh8Ldh1jhBPt42DQ, FBRn-BoAagYhNUOptCRhNg, eKUGKQRE-Ywi5dY55_zChg, pW9LvtC-hZ0PRAOUn7aZ2A, i5o9heILJtx3Yrwm-BdviQ, FoD5nmiHv9g4uMLIqgbwRw, WCwsJkBYRVls1e9-DmQKcw, 8amY_cV52Sik5VV3zJyzLA, UcRCyv27ZvEfSoUC4B2Ytw, kYlL3EGY_YtiYjsoODBUpw, 6MM9Yqn7UBM8tmpSHQHAAg, o6Ehx4Ma3bNDTl62cAXVFw, bD8B-c0j2V-aQrDX9TP4Pw, XCddLVoK-huzJnkZnHnNEw, D7Jz3w50Nu8H89ez03ccyA, GDMy8jPwnU_NZWJya70V7A, lGS4iseuuTRUneW1WQTOBA, JeNqqXh9wqhUi08siZ2zxQ, H9wF0RTdBnvnwVDDQ94UYg, 4VKgonp2lWVpNlKKrIbzjg, UvRUygcyvpJuHh1BiZrrbQ, POXpo0mwsAO_ffZzNNosNQ, klJqRnr0dmAjoTTaghToKw, tP23n9LMs-IeGqlnvmo27g, pQiuy_M1GuIbZsdMGXeS-A, zTj1O9lWGAnd_Urkwcy_zA, CIT2QNZ_i4DGjTVz_SUieg, iT1AA74QFn_a0Xq9-ggSGA, voaA8fC4lD2Tns4iLE0xVg, _ArA3QHAS4aeiLb_iE4PXg, Pxi1YSerIqfDaTRW0A7z_Q, y1vrzBu4gJ-v-fzKN6n24Q, AWVDOyVgK9gpSs7OIrnnUA, iSPFpeSUjK-E38N_FLJWjw, aWTPQwmq2clfKFHoyAqPiA, 2rOyyZBQOx2944CSlnxfXg, 8PKQ5L5bH-ywfem17_yfYA, xAXG9GmawAce34xeaczZaA, W56pQNLOEk_N7YZFR1ZgqQ, wfdktRlL6Kdka9N6Qe1NDQ, PgViT3MaGPU5TTt1rRS0mw, MlSl8RnpFaroQyDqE2Bu8A, YxIZEw1MizvYWqxlnEngnA, u8WIVYVQxiAFJWLdjJNkIQ, txvr6ihSB-NHlVptYQcXGw, AE8nHSRPFlB4nh7CP8PlGQ, zaIYxJIx4YbYyBzJF71nmA, nxWrhF_hyX0wwjrEkQX8uQ, kqyUHXq1SZ9cPhj3vUw_Rg, hai2mJ0dpWjU9WvKkGiwXA, QiDtS54JwTGeH81c-a84WQ, 547yp7aK-bu2w3Yn9V2CzA, qctH-ANPIIcJM4w5u7JyVA, daYwff3kBqb5cD8aBZPrLA, XP41h7J_Sy2U1w5_k33I1A, vgQ0injDOypxAfNzkmZhlg, xn806uz3ReXhzPjl1dlB2A, Peqt13tHOx_b7xBhitxzNg, d6y4p5aX_wzmOAB_geB4gA, 6ovRXAyuCN7VmNao2zH8KQ, I4BbW4a19h2IItNOoToDgA, fckwDBQvOcJstLdItG6nkw, bb0kaeFl2XmSHYUIJ-9O6g, e9UPHIeBJ54Z4kaaGSW7yQ, TgaWJYjpDh6xDJtGdYUoow, hHk4iEADmIsiF2lbuxGe4A, RJQTcJVlBsJ3_Yo0JSFQQg, gRyELG2195LdAnkZET8w-Q, X3ssnVzCtuSjCiH_VABh9g, 6orNmbKbaWUc87_tOgBvpg, t01rwbpInU49kL2LaPyqaw, en7bEkzUtMBcZBGrADW3Xg, 1Jbn78Lt97FWBOC6Zh9HOw, 52oH4DrRvzzl8wh5UXyU0A, 1CPs5Z2zDfWCNjbbzDvfBA, aQkCQ1m2Ugo1v2TKdL952A, IDGjnWQAiycFc3XJRGCZAg, auc6U-MhLYb0D_Br5tjJkw, 1D5EQITb4hOzPMZT8gDPQQ, jggF6VEdSdpCX1AObGZ35A, qI3uzegMdq3q3WxAajECGw, JVL0eReGF-IPtiMypmuqSw, yg5-kZKaQscIQ8fzt0vivA, 56hccEeFsF2VfTFmwtRJ3Q, eJY8svAq_1pt1VQiHu7lew, fsIBd03OYyvpKZeGw52B7Q, ENVGZtKwxs3-SF2M_8cIQw, ZKlOnMidHbjqmCaeb5utyw, TRmKQsFZGZq08lppipS99g, eJb541Kwnjuw3hfbUpTp2A, fTG5GrYEjTX2MrNrfboh0Q, I2lJPvg63jr6Sevoi7VMRQ, skar1XyXyjTKKUawy-NlyA, 7PA24F3h_6NjE9xzXS35wA, kfceysg9ES9hjM5Y7tNBOA, Cnn-0yo4zVAEwMxEwhuF9Q, qzDCMkf0vpk51UapdPoHPg, NZ71pUC5ewR1QRcTNZ-HTQ, W7sQ50m0VADz-RD2To4YNQ, ioLQrCvCBz3HmlKZeFxbJQ, -6RcGBFULSX8JrGKQ61_hg, CBwF2a2qEXpiHulN7MjCyQ, IT6jLy3uQg6K9yGSrAEyHg, 3AhjaQkZABGmc0H_FrjJag, ydIdyGQyO8eZe0yqgs0DfA, MgqNCwCiYdzrzK6gTdfRIg, gpICQJ2zawmoZ8GXxtRtRw, KmQ-0OtCbBR8il3s3L8Ffw, V3lguf7TqF-zyObTMz6oFQ, _kcHxYPXRYjU4hk2xtCO0w, Q2RsDOhzsCBI-F1oOPe6Lg, JiNR8CNzfxa6WzXmPoFOng, -sKmH2fyd7_B0KtpOx2V-A, 5UDpc2CMOgbf3GePS6SGVA, SMyoW77hy5Ei6nhq1REZqQ, jfUTkA8sIhiw5ahn9-9HPg, wTwEwDoUVNQtzT2BVIuZ8A, S8fKup9eSDMS1iOedwdIuw, Zs13caWCF4BG1DdGxRtI4A, 3PcnlwseeQRbc0XbFEHFaQ, YWCJid-FzS_GBx70qeDSMg, 4Y81J2Tdq5XAnkeYmCZ2ow, GfZD7B32lPYtdTCwH0rVzg, Wc5L6iuvSNF5WGBlqIO8nw, SgX2lH5hnDEzmIBaqPl4EQ, hvjhcPOG8zuqqLOohDKBmA, OZRhAe-La1bX2xhLGJujVg, ij1EkydgfT0fopex9SpKLA, DPzchvKxid1XL6-XA6wzQw, Sb4aEQHKeVLxHnQpKdETGw, ZYZNcugF3xUEGyLOVGiZ0Q, aqXY7pN0nIHfyrusGA71pw, Ff8aGnCfSFkZbYbRYh8qAA, XMcrNfviGwjU-ESkdANHGA, cRonkYAwS6c3XehTH7dxtg, f0hZZs-ir-HXI6fvvzSSMQ, w2ptlD8gg7ZhzSNZIe_ceQ, fZP1xM8h3ev2zeVAYHN3cg, naGbDsV0L4ZwwmwfU1I-Qw, a17jjm9h4gDmIsFwkdh8aQ, yRe0JVoA9rTE5968lowCbg, 7CvPz3Nj9lVisDpHroik-A, cZ-186yE2FF3fauqQZ5_Xw, djxnI8Ux8ZYQJhiOQkrRhA, UBknVb2TLMt99_zu0DrTuA, Uurxz2utWrvCSkK3XEuDpw, iRgghRapQ-tdw4NndgfHjw, NknWFPAxaGxx_OJIEYVXWA, WRdXMEGqq1YzmjmwSJ-T-w, 5dSUUfxh4ins9b3EZY9mwA, l6XY_0wdETSTTf3aysf42A, UsXqCXRZwSCSw0AT7y1uBg, 6YysBedbKp3TQ_Py8tmcMQ, oVo4avxfzJsMl4uD5dbBTg, PcEA6B2wN1j0ejKzSlSOzw, dvwSZ6azy8q2afSLLk64ww, DE_kijHLyG5vr3sqaVuRnw, BcOYetuqOpUBcdRkuRa31w, tGgTIueZy1JNTzQD9rkZLQ, upRh352VwnipRRWsnJP8SA, ZdXJEGi5yW4lHGAnM9_F2w, VI_gQb3zmWQ_k--SIJuRHQ, KDewJBJknfWvQyHHFNbfdg, TFpLcrl9qVptIsoUrdLZAw, NIQGCJu64sU2fJRfknBLBw, oQba6A60HadfVKakbi2jXA, DDA61J6OoyBwWl5NdrqNHQ, MGPQVLsODMm9ZtYQW-g_OA, yrf3tlFJ9jZINevdKODe5g, RBZ_kMjowV0t6_nv2UKaDQ, SHxSFnDNOu1M-Bg0yhPZcA, PRI8UpiiaJ_BCzozsDvS-g, -eFUeRMRCTGFD3X96zsXcQ, ug6Y9NFjPA5Fm8YYVRUJ4Q, JxA595MQSkNqzSfMXYWatw, ZDiHlPMQ-ZXlUtOpwcdPHw, 7tEUgFoRzy_TkOgzPQzCkA, ImYRAU_19IkuSRqGXZmQVw, If8XNBZ-mYo_jd7o0ISg1Q, 5BhSKRF7WzyZkL6g6ULbbQ, taU-uxYwYs3nywMkVm3ELQ, MWuPitr2L7gDUhqRB4i4IA, G71gQFn9uafnK7XsjWk-ww, YspKuEXxYxaS7bPmYfsr7Q, tWMLcKXlYL2orgehnNjGbg, nkSKPsgGEWiEj6pQ3K7n9A, w9p_hjzwPZA4mPbbEjkMDA, sj8kLrBPuTpPDZoBc7Tgqg, 1z1BOOAmn4sFK8uVqybDtg, jfhVjdvk80SWRUc8vU_xaQ, r8jflKhK0VbWF-MLev_lBg, V1ra0vxOSalQADQKi1TCLg, iuQjV2YIT0IYXk7RSUwHAg, bu2bHlYnNotFEvU3lBAPxA, AcAaKvF3J6oIsp0gO9glIQ, eigZw_Tn4TWJPSZ9UO9Auw, Z6RX6jwSaXTnO1dgs4XrHQ, JCxaht_dese0VPKbV2Nkrw, AiK3OOnk11_YYJ9K75wEZg, _Ta-v8yd4jDXPigbqkAXaw, 7PtUMFXJKOqGxblr_jCgxw, s-sm7R56br2jBYIzy8tXBQ, K73tPv89_EWRs_oo8HBn7Q, DM9uO9U819x1ugQ_ojSg4g, 3r7YXlJAe_1ehMd4eQzxoQ, Gz0xuczMHhKgFke4gq0oPA, FaAb-CoKW4xDvLTSPtEbgw, cmAHVj0b5Wz5Tun6Op0ksw, GABWrw5Et9jubriKwMUDbw, DoBTMECPnSHOd42je9753g, keLybSRMQjtMmJcWpo5StQ, lKVrn4Jdh2Joc7WzpPBhdA, _ZmPX1zkj2fDcUpdF3yCTw, bROr0S4_0i62dg4OIZ40TA, ISNbZn_lBKP7w1aGGaVyvw, E-149aCCM8sFm30KUfWdKw, yIuY-4hHVeTxYHRcA9dyyw, IAxrqUQFeGzlDHQeMFktQg, uTb2XVsPvb2ha3NeUCdHoA, 5moNCUyLKbi5Hh2xy6RAvA, R6499PAZy3nGoeYcn-r77g, GmYe7X1js7ArVjFWP6-sQA, QKeqjBQ-xa1B6R4HfJDJgQ, tCSxz32SMe8GIOInaXmbfw, aMFYUyMAashtl9g_u4F9iA, IiiHdIDqt92AUh3WpUrSAA, 1k6dVLySyEQP-YTNkja7qw, lWJXYN7J7jMpF12izhGJmQ, DOfag7X_M65G44KQi-f3rw, dFX3XIR6LSffYSSkL3F9fw, WeB5arUFS9L8Oj5ZAtd09Q, Qck-xxepzxvZQzHDq0vIOA, 8gr0fWKnnxhOzpNOsqHaJw, sHyi_ONOPf0u9BqFXZ2bPA, QsSN1wndUHUhlJiMfXdJQg, yqcWOC-5Jl-BJ8kSkKQB2A, kxXySSamipuhNbYQdwR4LQ, RbSGCLKuBlsLZ6YqewrGfw, _LuUja6q_ClLj157y4XMqg, lKfHC9RWQiTVfaTsvftvLA, 7GL9nDw5DK-3Wsnt-VFgxg, IQpYrNt54YG5yWV2-yW-nA, zjtQJ8eYWVedJpWB2sFB2g, qESx3c9NOITAcXqTQjbOCQ, rrPPFHwdooXZ-azwQvDriQ, X5vBPH12dEDbg_Ta1_BjTQ, 2OjNNLpCCGrtfQtpcbhlkg, TVvTtXwPXsvrg2KJGoOUTg, ctStxPdBoMQTVf-xXXylvQ, awmRirDC7WWig6R07XZ_oA, OtbooagsCGPM00ZbDOyPgw, MzXPOK2_T5O8GF-4qUVmGA, _V813SrmvNJSBiZXLdAWqg, YDss19FKlGBB1cB-9u4IcA, q9uTZRlWg9v-WG2v76gGcg, MNLPwQUL2ua0XjXtD6AuEw, MlW_WnRkwWOMBuucVR0igg, GK0Dp2u8i7q67dXQEX5UAg, HRd0rsPG18QDJf5He923XQ, 6HfGx_gVu1IHFnPL66kAOQ, jhao9DuSPnVxcEf9L5t6DA, 5Gyj9vJ5zHq2udDovEnGOQ, HCtEYgABFgwGhHB3rPQeQQ, WvEEX_6i_68M_njQTu6I8A, lf1m4CbheuUR7fFZoLGRvA, FNP8h7mywPGKkErQSBJdqg, -tz_g5FpDiWy9_zHw5IR4A, vKH4aCQNECMaolBGbeYbtg, MD3yoIFsoTXgF1YlbEL8RQ, 7ERP63MvYCJ92g7bhYNC3A, 6wP6KJX5RBDtRH9mZoIbGQ, LCdP73oxmdUJ-x4XUtQgqQ, Is9odUDomfPACsi9U-C7kw, fzvsbJr_xCW3CgbWp-zGew, c1w2l49w7hPtgKTqrBz9HQ, JtEom1xqZmYSWBav17gQTg, JqLGx2zcKVd6YhctqWCNBg, XiMjphpRsjC4jK8_4jYQtA, -h3OxE2YbWzFXVkBhYtJTw, dTRa2tLy4vBur_uQRFD49Q, B9vAgQ4KBDIb3Z3YZT3GKQ, uEvusDwoSymbJJ0auR3muQ, GlIwZeNs_r8RyQfBtRrx_g, pxrkeX6yn8LK07hSbLIubA, F6nhbKjk94_4MwRB_mm0fA, oziUY-7erQgnTzAcgGLyLw, L8fuHJ30GARwKc6Vf4nU3w, dEojfX4Syt-Yddq2RkB3sg, NpZz1vxjm2mpQiQL6JJG_A, aI68EqCbSw4C-3Nda2PZNg, NX1kf75zOXFXSwpiN7YYcQ, INxvh4Rixsdfzh6PcWc_pw, hkO94fU62gwwZvKFpoG1KA, QDXEMnt_54ZwV41kA5DQ4A, fabG1edTFn78qTkrSFptzQ, Ks6dcxGZKVd7chBH0-4KQQ, xxJiV3Gx4G_niDTFMaMSqQ, Ny4NJ-xg8TDjAK2GE3F7Qw, ppx8mioUZuj3Xiss9vrQRA, 9r8Hy9rnWsEAvRDTFqfhcw, oy-K-bNNFy2O9rwKC3dteQ, PAefHnoFCJxljGWcU3t7YQ, 5vPhuJUhrEL_9jzNx4JnOg, 3RZcJCA2C7vHW1ZqVjfB2Q, fp_jkccrULRlEI4GTvYoSA, yjOmwCe_n4R39W7JUcNY1g, q5Tic47_ZODaMSi1JFK8TQ, Ls0wyEROsq3LYptBDI5HNw, mNlwNhqRbhIHs5ixVbQcqw, 85Jq6l707HWj2XpFw7qPGg, zUk_Ww2q1At1QSyRbUjIGQ, HuDDjVmNTa55OSHavyoCiA, fbwZCrdooSLtRGGucnW3xg, QdfFtp430K_-BP1GTPNnDg, zLe2zu8hwgzcgkt345rceg, mDCmG2WlSqp_xZnfMEmDwg, vRjVhl3ONG2GfWY4NXJZbQ, sOhv5LHFsyf8t1JpgnocMQ, 3rXJrS4n6M9cto6jpSLjvQ, yolugGt2cEeEuZ1rFfyPaQ, qotYbvb8EKQ1vEA7AjUtMw, _sCXKzDT9rkVuZbbiPpWnA, L01sjA8ajv8S18LMxi4JRg, gCkoQaJ_BY_lI8K9on7JhA, Nz5ljy-vhUhSvKFxKPQE4w, kvYmVx7AaDVcaMorq4ej5g, JdfmppqFvzYpBxd975SgjA, gSRVWYZ4D0H33h79Zd-UPA, TcsaJM56vsQuE8wzq_jFqw, gKB-uogPV4z80lzAECo2Jw, 1imJg2HP8dKkB-3q4wSxAA, U8xZnVaSyRDaoRJI0opgGg, lfWu35SInCo6se-nTXkaSg, Vuy1Cgm6D_cEIGNHP1wyPA, hYfmLCfVGuCZEtVAuXnLFg, PADEOho3HSERLJEF3120eA, LhFwW3Bq1NUaLkmZKCNQsA, AuEy3dIUAuDRUIKk-Z3D_g, sHY6JcgWOHLP4vR836Esmw, pB7z9hAUv8JiE6qF2boLXg, 9c4s9apSX_pgteuXoj2H7w, dBxOG8V7Q6efnKgd3CzJ-w, XnN8ROmPHvPG8pBOTXilNg, -uKDuYnleY4uwti9BabyeQ, U-3C9JBIdsuSKgMR9mYGwQ, BbwldZQM1i89cAvV7fce3A, DPKicEgvQPBlltQS18IIiw, -venl9JPwMqhIkP78J6MBA, UKSw9kfoBfdatSMUl-jGnA, zpnd-D0-ahcfrYYLvt04oA, JbNI4MD8hEZaKqDPXSqfzg, lrSlArehU8XqQlRNPQ7dbQ, ayS7bmka-G8nmf0yaS3bBg, oanvUrdt2hs6AiOHsx8R-A, MRw1yT9BChejK1lSwVc43w, NwVyki35xOcaxhMzHNtHDQ, ufb1C8Oqczl4vzoxMwYnIA, iQ_p7ckcC5jJp7VzPjo9ww, 5AXMfwKO0Yt2OZLDgD9RRg, _jTbU383CTdM48cnmZfStQ, 7lBuMxcAaPyIVbH2ce689g, Em9c59kw8CR9rKqOJEI8DQ, urqtKpxG3VM6C2vxhb1ilA, _SkhXkYQuhqxCPRcwJP7AQ, 9b2GIPyBeYcdExTBMMTVaw, l0S1reBy5EStLLxZvxgKrQ, 4xM7p0rcWuOF6lFbMu_4JA, jyG6YI-nU5iJOVxCLOIkXA, uuUl5T_9b7vCHwNHWwC2yA, OrnQ04JCGie8Q2ymFF97FA, pjQopHxykzK_J9io9BBBMg, jZva3shzpd7s8XCml_8AyA, dYEHTYJeDJ4v8AUiExaVsw, DvUfknhX3BUlnE6imEn88w, m1jzeTBPmQZ1ojxHUz4scQ, awfsXBbYhF20guziE-n5Uw, IfKpKI1KiLqRA6Nao7-8lw, fpqG9401V3CKFEyEGNDiaw, MrIT1sgGafus0oMUa3I35g, kmuGg83EwwhDvEe9goKQGA, fnfUKBqLni5rK51g5_mTFA, qwFkyfUWPWvU9BAKUCG8Yg, xUf1kLWUDiicRuj-5RLMDg, q3V2UsE6mx5KM7wDaFDAUg, E0jyDPvHnUJnbSBdGmfwPg, K74S1UK7QjAhWnkXIN0nhg, T3utHu1g85ghTCpcpUCCPQ, HS1xj2PfkdhkmQaW6hJXqQ, kRcYmBUumNiDH6iHg3GgOg, 8k3aO-mPeyhbR5HUucA5aA, l6_yUOxdIQDIP9qCkMNowQ, W_MuoJIhSJYCXJ3q6TkyWA, 0wN0YvKTnMbC6_23AxU8ug, D0ZM-N77uasOK146KBwMeQ, X1eKzfrIYuKAouVF0OoQBQ, N2v0OI6H3B2nIdALqT5lpg, B1U0NiIcCltvuBXd8NbtuQ, IaygbbuFy-GI4-JBHr56Lw, cSNER_qF_bb1t7kN0kZ44Q, cOEdkt0Ia-rcIZuv965eNA, LBRs361h8dsg7Xhksjxguw, ISTrVRtMD8UDMzMwaaLglg, r1bWD-5djcoOXq2OASyR3A, SVL1Oir45owS_oKg-ylqfw, Dx2FG9PuLyvA9pJHFmzx_A, g8CuXPDdd1QepSuEut3f8g, Gx9m-uVNSAua8KdVyiQfGA, W6nMsnSkXCuUsfq4ve_syg, Hn8O2RQijYIVLFNF5VPWTA, YJBQPcCFAwMaLIbcYXyN5w, j4FECd4INVCEMoGaxdADkg, e1PSboPsngOzuChSaq_q9w, mrO2R1Uc_DmKKEtH2VTNDg, qbJWyx6mGIF8ijC_Et0lhw, _vs8VFJDvsYUgIn9JX_wVw, 9Hqv9W5qvEbKEhMx5TIe9Q, 3tmJi1o-upSeb0Q2O5sh6Q, kD5eyfgyOdl18Vf3ZdsBiA, LFw8rrKXIyTJhQTSegYxbg, Srfb-a-JWvYjRr0CEmkiZQ, uT-dE6exdthrLJ8LX3eJAQ, hD2p1CFI7ZYjzjc2rVSRpA, iTGlL9XPc_p0RCTOSgZq-A, rj_H5xcaR9BDn4FnD08Nww, 4jKdRw3wYpn7eUYnqbvNfw, yiGwLW2al-83O8FIc1EMmA, vnUqJppalRzcsJP76gwX7Q, 8X1luYp_AMAcDVbq_q6Idg, gfR80SvOyWL45S8vPMZxNw, 1-0Fb85Cx6_QFYd8LOsHVw, H1JitsRiBgc03fyUvD6UtQ, Y6AnR_5l_RgdSM-GDsqRgA, ZC5XEWsIbxsxSQb5zN1gpA, nkN_do3fJ9xekchVC-v68A, -OjUcGBq5OEz-4XVbC8onw, HrXiGP_whp6OsvE4sOpq4A, _YBX0Fy9pI0ktOQ9RtFhAg, Er_1k4cl0VwKz9tfIn-FBw, l8p4iod0odc11QhP4nKDBA, RVKadMPQnfWj7CxyX_gaGQ, iBim7ih7ue_EGczvtHVU7Q, 3yBusRwPYtMCpaBkEyhyJw, 0G-QF457q_0Z_jKqh6xWiA, PbmtoKdQ_Td9Ez_WwlEZig, tGYfNqwSECNhQXWSLDnupA, g9OgfHVjk652t0q6ys0OsA, _Ud2sCb9hXFaKudsvz5mpw, sYQyXDjGaJj7wfaqz5u8KQ, tlY0QMQDyfjQAEwHnzvFnw, yaZvdeEnbZDjaBlG0hBDfQ, i-v8v-Ns-NgjsEwTHrNIAA, 1tN8OUajPUKTxPALS8UQfw, U9MSAWamh-W8xQVK-p0IoQ, B-s-8VUnuBjGTP3d01jsyw, ZcFJan2oTdQeANceoi9MGA, hOwNzTU0g0UzNLNQhhuHEQ, UzVUBcqL2Ht6v-KjLNRGgA, ABBVfHRVQWSVeoQNRhKDcw, ooKXxdH6rDFso_wqUtLmSQ, RXHuqqw59JFsk1MKqiwrWQ, N58MtdtlR_DDEAOlfQ3zOg, 1h1DD2hgfgud7V4NCE9mVg, J-eexAebz2FnwkHmyiDWdg, JADdo9NEeO5Az9aOYbyvZA, LWngcRWDFfb8LXOMiMIcMQ, f2c0zHEZf64GPxAcjP6pzw, I3OQgwgfboTdiMEI04woQA, V52BrrwTOR7LdbCmNlEpFg, pZ6P_1V-bTSoYG1fg1TXzw, BaiAeHezc8HQd2K2naZOXw, 0xNIPLIIkG9YIYER30LWFw, p9vAOd-h58DhUBgIVwSqKg, 8TD7nySIFD_Fyspjdkm89w, wb2I6PxYjRStE7OGLL4S7A, WGVRnbgyxQL4FLZpXf7uXw, S6IOHSR6Q1jP8_wo3Cw79w, 6IdZ9TTQqArWq6gnhxFptg, gQVH0CSYRWjuwr8UTKMuog, 6z5dqsaZE5U9wBS4dgDZmg, HqMWEEsYIXoFhdDIX1NtrA, ij7kqaoPR_Zwtcrxn11kXQ, QydPuZtEVS0xOSzhbr0sqA, z7KsQ_nfTZq6mm6ZPAk_Mg, 9TWgmxmhL_y5zF2s9S2TQA, w2BHmQ77HJ9mpXtmNN7Ofg, N9XWYP2NV2x7s0dvY-z3Cg, Lu8y2ayxVlAzuJEVfVcH4w, VKs8ysSl6kraiw607qwd3g, YJ8QGNtBAEmMZXil5kUyWQ, VJhjKg-iz6bV8BQCpXSGpA, zqttuCEWI4-l4ZBCbfGk6A, rL29YdnP9X25q7Qf1nWtyw, sBYVrXGv643iR5hbtntvEA, 1RE_CMyiShKAk8Xc0tRpmg, xh29SCW6ypDCDmGEP_3-QA, vec2CYW24eZmPiXgcbherQ, peuxbSQwXed-81cSqL7Ykw, I9PpxV1JrGATW-u3gew3Ew, VzQ9VwmW1NkOxcMD_ctU-Q, iiwAh6dlv7q89ZR45ELJgA, soKASD3m9cAAauItVRNvyg, kKy2XrlFbQxtbukkFYMiPA, Kat1A81Oy_oyOAjn00_Wdw, iOjwFYpHWo7P0rqmIfLm9g, mc9Hoi-YFmK28QLoiAgCcw, DhzVhB6uVGoK3ShgiWAfrw, hAU72qKgpuev6md8_6SngQ, PpNZuICTyx3DSH-v_zmbWw, G9Vb6yQ047TC3O_-GG4WZA, 3ZwpQmu7UDV5Z7t0bxFV2A, zm-Spcy0S3W0W2l1yZ2GVg, C5Z9aF7RAudlQysOINRZrw, Yfx7NzTXeOou-ZVfuvwHjw, pnQm5mevju73aDSL7kJq9A, N26-dXhOoB3gHhX6meMMNw, fKL-Im1knAn7sOWQWb25Hg, bNj2eepluJgikTGpRn3IjA, WcOIl0Fj-3eEwwbAptl9Sg, DH7ABAMHvl6IQfJ_yK7x5Q, j3dXVeBBaAcSvJERtbD7cg, 7p6sK2Ok4joncGeCCPxcHg, QnHexOkhE4gFlRE_KTwlrA, 9-6O68b40RsO_UVJZZm3pA, KheemzNvPqrxDtOqdrOQ5g, l6Zmf-clwqhl7KnOwRsEHw, 0V4Ra6jCmSAgFtCiORr4QA, n6GBeJVd1C2dszlSOBAfJw, hHa9GBVke1x8ISPmnBw0lw, Jaf5dxzcGqcE2A2l5KEXug, bglLIiHyp98f2jnD5r8GcQ, YvyyqXcqedSmJ7AozlPO_A, xY3ownXim-r405C-SquKRw, eZPsoFhCMPzAlpFXq2XmUg, 6_b6veDx_zudzubf2BBHrA, a5iX0JQhnyFoAVipBh-Cag, IC0awH6Csw-25fQSfnwNiQ, ZO9vPLja7ako5VYQRgnnUA, 1J01d590hEA-a87njadYLg, CIZGlEw-Bp0rmkP8M6yQ9Q, VO7ZMFghJFH9y1NgZTq9pg, qoDN_yICRYGgcLlGRENYqQ, TDjgxCEc6wJPzTjtGpZu2g, W2LzElgt2feDwPFtBGaNGQ, Od3J7dAznWFG0a3TRm_dDA, 7c8DTH2-Ax8UbBAoIe-Gjg, -QAPJrxpKMK-xP_m3fg8mA, jh__PGrvN2jbmAdITIdxMw, 5bq0cW1X_44KQM_pKaCs2Q, LW5d-7IXCc6kGsngEvMmpw, VjUuaL2A0QwrRZ8hDdFf7Q, 6JehEvdoCvZPJ_XIxnzIIw, d3-ScnCgjkks04FjfPwTJw, 1WdZ6aeZKPik8kljg8-YFw, o7KvTMPeXA9uZhfpXr_TZw, fzy7c7bGIVJbfW8HqDBJXg, o9WyNGlA76Sjk3JxkTX8JQ, a8QNaErKMX1GTPfBPaH-bA, YnyguOkiSAeF4EwKJ4TAVA, NkVYcoaThHjOfTTgq6OdHQ, mj2wCBzx7RtoL4J2m0xu4Q, L2g6vS1GDfqLEpiDOFfCkA, 4DyMRBKrokax6d8LCI3GAw, JenQaiv9_kAkiz0_vZK4jA, v6Pbcy6I5kDb-uk2Ychvgw, rsRTmCI95yta4IfOYTDdJg, 0wWo_2D0TVrUqqLpI1wcxw, TJNkg75ODHabE5GBfV5wRQ, pAK6Mh0Nh4VUZEje4elV3A, m_cyo8uAmTWypHfVnXEXXw, GhaqhhguAv7SBD3HhqeEog, XVCrc1Unw0x1gtWKF8PUVA, eHSoWoI6OKzRxI933UnXTg, p99BGa4KWXL0rZ8SQqfpkQ, 0pJXf6maHIJuFWfrFBsaNg, WDpvs6U_TCx4799oxXcnag, Ha3zSn0uEHlODzpA7mxrFQ, p7OZx3RIeJPxSM4hP6wqEA, sKbbkIUqG0ld5pmj9InJNA, IKwsGotasR27FMY2eQ2gHg, BjtT6RMVXSvf0_rH_htDvg, W3Z5K5Ks4PJHo_RFexaqdA, vY8w4LfJm5cxrn5U1_KJZw, WUfR-RSyIX8SgcsNCIBQ4g, L4qdMvFLu2s6iy9QCRzJKA, KihAV1v9iFHOmuFmTNcMdg, 3AQON_U-ZnnW6WHx0M6ZHQ, 4ZaqBJqt7laPPs8xfWvr6A, sI5vVRDYvFpMwbK8-3CxWA, s79ssofAOmoxxfW7SUdAlg, 1orfwtwIaqCbLgfs3W1i6Q, 5sp8d8cJ8PFmELa66W5FJQ, jeryHBRFG8IT6LlVBiG2oA, vD65y5E3Az3bFc6UW4G1eA, mpyHCPr1L-5Msx05l5bbQQ, -YAXThScggsREXhutAHkAA, ZEWje45_SWo--EMJX0owbw, zCBMz8IRdrCM-Qydf2Vxew, p3X4_d_u10uiLbwwzQL2Zw, kMB--Dl13I-etkyZLwJpkQ, j4Ic4-VJ-TAZ8JTIINsSTQ, LyL5Ixz2HKYI4FW-fjL1EQ, lnuCpza1Al3q-OnCAeV5mA, Cr1-jItXYxrpeuG4abvkzg, uSyPtqgXYsAwdiPvostnLg, 4WB-jA-xd9IB_e8PSqSi3w, aS8mvg6EYBQrPp7n36MUOw, YdoOhnFFT0OrzQD7_HVoig, yPkXV04Qb5DFUq5fVfMBiQ, dgFZ18vo2cYPrQuIO700lA, LanpXTIHhEmjnGcWBn9AEA, 8F3bv6vDxawzNZrJ8vHBSQ, mLmgtTwuryDjJAQrSZ_w5w, t4RLfHlTiaC8zy15fnXG3w, MdGnY6eLxy82nEZhCc6rnQ, CZvO_hxaxTBkzE1xr-Fm-g, gGxgF1cq9n7CyjtNgy2Usg, IW_f3uoXHjjs7_N1S43w5g, DW9xAF_lxp369lApzdSeVg, 4aOGgQgjq72SDQdDHtFqVA, Y2MGFNUnF8vXdS2pFMlLcQ, dOrYE_QOOvYZt396-TJ55w, U8Z1G8th0Cenher6qlJRCw, xmD6cbLKYNFxfar0yBTpVg, bSI8nd71eOaVWWYiaAmbdQ, HcciAbTkNzkPjrA3uNrYnw, doz_wwj6F6Ln9ykODiLtZA, oazuTtSyKV6zrhbsgbdbUQ, C7Vo14RpRTG5Bc84l4q6DQ, 7IV3JXTXufasWNSkDEdrcQ, 8cgHdBw0Ic_DcJqbW2VhiQ, 5V8sYvoqtWkm7BDcA6jFjg, Sn73fweSBkP_qYHfMgsmWg, bjpj60rqZFvlEjIULEupVw, 2RdNgp8ZjnWxqLJ8iLeDpw, E8ud4RE1nP1llJvAGUmtQw, hfoaYWsswze_T5KV5NQVMw, inNUfHhxIAwe6vp-2ptYWA, dzS5QyksmF7xA-0j-dCL2g, i8CDZlzcpncppvxLtDzFMQ, XeaqHoiS4M8PyYN4Ubyrcw, iIgYU_T5Zl4s71OXVDteQA, jT-wX_lD9osxWldgKIklXg, mlZ5ZszrSB8LJEIi-HWOWw, FtsVfEUIoL2jKMloVH-P9g, aJwh6Mcw-q7Xio1CJxJmBg, tm-O-2D0mRt2mSwo6odOZw, HorQ90eiUPfnesQlIraaJA, d6wDZX7kTu17tF0KOxJfXQ, szrWOJgBJ6lFD5dH97eMIw, t3QO4s0pol6wCuafpxdHcQ, I5mGMCNuOeOy9HoUKs4FYw, hed97ZJJlFWlsYiFYeoAkA, jBR1SIjp7S0jDIc5Ry5s0A, RhiFiPBZjDtceUxs57GJsw, xFcvenSpj27nLNvBOjk_Tw, PC3IiBMdrfW1ekLIKPK9mw, 5cBfwjuOT9HV2539Rucz5Q, 6YEnpx-qloIfFX-L9uyfbQ, sej8Mms_7rlmbjPXrpW0Ow, Wd43YdZtztC169e2K_7jog, Iec0Qou1MH6zk7I4y_4nrA, Cp4pbfbFvb3uO1L_2FzCQg, Oq85GDk7JzvgaxBlQyWZig, QDxlTKRvvUdxOZkCE55XvQ, dIagnCsI5CJkRKGlk0TfWw, Vetzdv2tusG6bef7wjW7_g, OdMNiPACHRZc8FOr6IE1Bg, 7PTwhPEM7VWclYIS_1dSiw, WwmWdDCJREohcxQqfnOL-A, ZCgJbuBhHiGZd9yZ_kq6qg, Ko01Bph_vOdLw0BGvn_Sew, NUjJJoP-Ku02ANhoVorDvg, 6b4TTkEB3XvY13eAi_AYeg, VCoBNwAUSvo0Sz2ORszOOw, Y4DWxtGYjUXa6iMSVw3AiA, uIjj7EIVBU4kGNgmKPO02A, CWPTwgEx4dOxILm968ClkQ, 5cd9IdAV9Dce3BdRDh9qCQ, aXpiHi7FW_wOIe7nGFRSDQ',\n",
       " 'fans': 122,\n",
       " 'average_stars': 4.17,\n",
       " 'compliment_hot': 54,\n",
       " 'compliment_more': 13,\n",
       " 'compliment_profile': 7,\n",
       " 'compliment_cute': 7,\n",
       " 'compliment_list': 6,\n",
       " 'compliment_note': 46,\n",
       " 'compliment_plain': 101,\n",
       " 'compliment_cool': 120,\n",
       " 'compliment_funny': 120,\n",
       " 'compliment_writer': 47,\n",
       " 'compliment_photos': 18}"
      ]
     },
     "execution_count": 5,
     "metadata": {},
     "output_type": "execute_result"
    }
   ],
   "source": [
    "json.loads(subprocess.run(f\"sed -n '{line_number}{{p;q;}}' user.json\", shell=True, check=True, stdout=subprocess.PIPE, stderr=subprocess.PIPE, text=True).stdout)"
   ]
  },
  {
   "cell_type": "code",
   "execution_count": 6,
   "metadata": {},
   "outputs": [
    {
     "data": {
      "text/plain": [
       "{'business_id': '-1oygVebK81K8JEPI6H6Lw',\n",
       " 'date': '2011-10-17 14:26:47, 2012-03-15 15:26:15, 2012-11-30 15:17:45, 2013-01-09 18:04:14, 2013-02-09 14:49:30, 2013-03-21 12:12:50, 2013-05-21 12:16:06, 2013-07-15 12:44:16, 2013-07-17 13:18:45, 2013-07-18 11:45:47, 2013-07-23 16:04:30, 2013-07-24 11:09:12, 2013-07-29 11:56:11, 2013-07-30 11:39:04, 2013-07-31 11:01:39, 2013-08-07 15:03:07, 2013-08-09 11:34:19, 2013-08-14 11:09:09, 2013-08-17 16:04:33, 2013-09-11 15:29:07, 2013-10-07 16:23:40, 2013-11-13 16:42:58, 2014-01-04 12:47:38, 2014-01-25 14:03:40, 2014-02-04 18:52:04, 2014-02-07 13:14:08, 2014-02-22 15:51:33, 2014-03-01 15:26:48, 2014-03-08 14:22:00, 2014-03-21 14:48:55, 2014-03-22 13:47:20, 2014-03-24 15:33:14, 2014-04-25 15:16:23, 2014-05-13 13:49:55, 2014-05-20 15:51:29, 2014-05-28 11:41:46, 2014-06-17 15:31:39, 2014-06-21 11:30:47, 2014-06-21 11:37:33, 2014-07-11 13:44:04, 2014-08-02 13:23:49, 2014-10-04 14:54:30, 2015-01-03 17:28:15, 2015-01-12 17:17:51, 2015-01-20 17:12:40, 2015-01-20 17:13:06, 2015-01-24 19:57:25, 2015-02-06 17:42:45, 2015-02-14 16:45:54, 2015-02-14 16:49:33, 2015-02-21 14:01:02, 2015-05-02 12:58:42, 2015-05-12 11:30:32, 2015-05-22 13:49:06, 2015-06-01 11:10:11, 2015-06-10 13:03:30, 2015-06-16 22:58:46, 2015-07-10 12:57:32, 2015-09-03 10:57:55, 2015-11-03 18:13:17, 2015-11-04 13:15:45, 2015-11-05 16:11:37, 2015-11-17 15:41:04, 2015-11-21 12:33:53, 2015-11-23 12:02:59, 2015-12-05 15:15:37, 2015-12-18 14:47:27, 2015-12-23 17:43:32, 2016-02-03 17:34:19, 2016-02-12 14:05:09, 2016-02-19 15:17:50, 2016-04-19 13:42:43, 2016-04-30 13:11:40, 2016-05-04 12:32:08, 2016-05-10 15:32:02, 2016-06-29 11:36:13, 2016-07-29 14:30:55, 2016-10-07 15:17:04, 2016-10-11 14:18:11, 2016-12-10 16:12:23, 2017-02-24 15:00:55, 2017-03-09 14:41:22, 2017-03-16 12:00:37, 2017-04-05 13:01:42, 2017-07-15 12:34:47, 2017-08-03 13:42:16, 2017-08-21 14:52:50, 2017-10-05 13:56:32, 2017-10-13 16:10:47, 2017-10-21 14:29:42, 2017-10-23 15:58:15, 2017-10-25 18:21:36, 2017-12-07 13:58:48, 2018-01-22 15:49:48, 2018-02-05 16:06:10, 2018-02-09 12:57:11, 2018-02-12 16:32:52, 2018-02-12 16:39:01, 2018-03-07 18:30:20, 2018-03-12 12:41:36, 2018-03-21 11:46:51, 2018-04-26 11:28:08, 2018-07-20 17:56:09, 2018-08-11 14:34:59, 2018-09-08 12:20:20, 2018-10-09 17:14:45, 2018-10-10 16:32:22, 2018-10-29 15:33:12, 2018-10-29 17:38:15, 2018-11-02 13:22:58, 2018-11-16 18:40:19, 2018-12-05 13:15:05, 2019-01-02 14:16:03, 2019-01-03 16:17:15, 2019-01-07 18:53:47, 2019-02-01 17:25:19, 2019-02-12 16:53:01, 2019-02-14 16:23:57, 2019-02-19 16:05:27, 2019-05-02 13:35:38, 2019-05-10 14:51:01, 2019-05-13 12:55:46, 2019-05-23 12:44:46, 2019-06-24 12:43:03, 2019-07-16 11:17:27, 2019-07-18 10:54:55, 2019-07-19 10:56:04, 2019-08-30 12:26:59, 2019-09-10 15:11:39, 2019-09-19 12:56:01, 2019-09-22 12:45:13, 2019-11-01 12:20:38, 2019-11-02 13:42:10, 2019-11-15 18:21:26, 2019-12-10 18:24:12, 2020-02-27 18:21:20, 2020-02-29 13:34:31, 2020-05-29 11:45:11, 2021-01-04 16:27:44, 2021-03-01 15:13:01, 2021-03-08 13:44:46, 2021-08-17 12:00:55'}"
      ]
     },
     "execution_count": 6,
     "metadata": {},
     "output_type": "execute_result"
    }
   ],
   "source": [
    "json.loads(subprocess.run(f\"sed -n '{line_number}{{p;q;}}' checkin.json\", shell=True, check=True, stdout=subprocess.PIPE, stderr=subprocess.PIPE, text=True).stdout)"
   ]
  },
  {
   "cell_type": "code",
   "execution_count": 7,
   "metadata": {},
   "outputs": [
    {
     "data": {
      "text/plain": [
       "{'user_id': 'nXMMoDzXRByQiWH9cf-FAQ',\n",
       " 'business_id': 'Qw7tz-UkPrpXaVidWuab4Q',\n",
       " 'text': \"It's free first weekend if you have a Bank of America card!\",\n",
       " 'date': '2011-08-06 16:01:12',\n",
       " 'compliment_count': 0}"
      ]
     },
     "execution_count": 7,
     "metadata": {},
     "output_type": "execute_result"
    }
   ],
   "source": [
    "json.loads(subprocess.run(f\"sed -n '{line_number}{{p;q;}}' tip.json\", shell=True, check=True, stdout=subprocess.PIPE, stderr=subprocess.PIPE, text=True).stdout)"
   ]
  },
  {
   "cell_type": "markdown",
   "metadata": {},
   "source": [
    "## stats"
   ]
  },
  {
   "cell_type": "code",
   "execution_count": 4,
   "metadata": {},
   "outputs": [
    {
     "name": "stdout",
     "output_type": "stream",
     "text": [
      "6990280 1987929 150346\n"
     ]
    }
   ],
   "source": [
    "import json\n",
    "from collections import defaultdict\n",
    "\n",
    "review = defaultdict(list)\n",
    "with open('review.json', 'r') as f:\n",
    "    for line in f:\n",
    "        data = json.loads(line.strip())\n",
    "        review['user_id'].append(data['user_id'])\n",
    "        review['business_id'].append(data['business_id'])\n",
    "print(len(review['user_id']), len(set(review['user_id'])), len(set(review['business_id'])))"
   ]
  },
  {
   "cell_type": "code",
   "execution_count": 5,
   "metadata": {},
   "outputs": [
    {
     "name": "stdout",
     "output_type": "stream",
     "text": [
      "150346 business.json\n"
     ]
    },
    {
     "data": {
      "text/plain": [
       "0"
      ]
     },
     "execution_count": 5,
     "metadata": {},
     "output_type": "execute_result"
    }
   ],
   "source": [
    "os.system('wc -l business.json')"
   ]
  },
  {
   "cell_type": "code",
   "execution_count": 6,
   "metadata": {},
   "outputs": [
    {
     "name": "stdout",
     "output_type": "stream",
     "text": [
      "1987897 user.json\n"
     ]
    },
    {
     "data": {
      "text/plain": [
       "0"
      ]
     },
     "execution_count": 6,
     "metadata": {},
     "output_type": "execute_result"
    }
   ],
   "source": [
    "os.system('wc -l user.json')"
   ]
  },
  {
   "cell_type": "code",
   "execution_count": 7,
   "metadata": {},
   "outputs": [
    {
     "data": {
      "text/plain": [
       "46.49461907865856"
      ]
     },
     "execution_count": 7,
     "metadata": {},
     "output_type": "execute_result"
    }
   ],
   "source": [
    "6990280 / 150346"
   ]
  },
  {
   "cell_type": "markdown",
   "metadata": {},
   "source": [
    "## length of tokens"
   ]
  },
  {
   "cell_type": "code",
   "execution_count": 9,
   "metadata": {},
   "outputs": [
    {
     "name": "stderr",
     "output_type": "stream",
     "text": [
      "/data1/home/xingmei/.conda/envs/rec/lib/python3.11/site-packages/tqdm/auto.py:21: TqdmWarning: IProgress not found. Please update jupyter and ipywidgets. See https://ipywidgets.readthedocs.io/en/stable/user_install.html\n",
      "  from .autonotebook import tqdm as notebook_tqdm\n"
     ]
    }
   ],
   "source": [
    "from transformers import AutoTokenizer\n",
    "\n",
    "tokenizer = AutoTokenizer.from_pretrained(\n",
    "                '/data1/home/xingmei/GRE/e5-base-v2',\n",
    "                use_fast=True,\n",
    "                revision='main',\n",
    "                trust_remote_code=True,\n",
    "            )"
   ]
  },
  {
   "cell_type": "code",
   "execution_count": 10,
   "metadata": {},
   "outputs": [
    {
     "name": "stderr",
     "output_type": "stream",
     "text": [
      "Token indices sequence length is longer than the specified maximum sequence length for this model (514 > 512). Running this sequence through the model will result in indexing errors\n"
     ]
    },
    {
     "name": "stdout",
     "output_type": "stream",
     "text": [
      "927649311 132.70560134930219\n"
     ]
    }
   ],
   "source": [
    "len_of_rw = 0\n",
    "with open('review.json', 'r') as f:\n",
    "    for line in f:\n",
    "        data = json.loads(line.strip())\n",
    "        len_of_rw += len(tokenizer(data['text'])['input_ids'])\n",
    "print(len_of_rw, len_of_rw / 6990280)"
   ]
  }
 ],
 "metadata": {
  "kernelspec": {
   "display_name": "rec",
   "language": "python",
   "name": "python3"
  },
  "language_info": {
   "codemirror_mode": {
    "name": "ipython",
    "version": 3
   },
   "file_extension": ".py",
   "mimetype": "text/x-python",
   "name": "python",
   "nbconvert_exporter": "python",
   "pygments_lexer": "ipython3",
   "version": "3.11.3"
  }
 },
 "nbformat": 4,
 "nbformat_minor": 2
}
