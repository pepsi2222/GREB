{
 "cells": [
  {
   "cell_type": "code",
   "execution_count": 2,
   "metadata": {},
   "outputs": [
    {
     "name": "stderr",
     "output_type": "stream",
     "text": [
      "/data1/home/xingmei/.conda/envs/rec/lib/python3.11/site-packages/tqdm/auto.py:21: TqdmWarning: IProgress not found. Please update jupyter and ipywidgets. See https://ipywidgets.readthedocs.io/en/stable/user_install.html\n",
      "  from .autonotebook import tqdm as notebook_tqdm\n"
     ]
    }
   ],
   "source": [
    "import numpy as np\n",
    "from scipy.sparse import lil_matrix, save_npz, load_npz\n",
    "from multiprocessing import Pool, Manager, Value\n",
    "from tqdm import tqdm\n",
    "\n",
    "import os\n",
    "import sys\n",
    "sys.path.append('../..')\n",
    "sys.path.append('../../RecStudio')\n",
    "import pickle\n",
    "import numpy as np\n",
    "from data.MIND.process import MINDSeqDataset\n",
    "from dataset import CTRDataset\n",
    "from typing import Dict\n",
    "import torch\n",
    "import numpy as np\n",
    "from transformers import AutoModel, AutoTokenizer\n",
    "from sentence_transformers.util import cos_sim\n",
    "from collections import defaultdict\n",
    "import math\n",
    "\n",
    "BATCH_SIZE = 256\n",
    "MAX_LEN = 256 #512\n",
    "MODEL_ID = '../../mxbai-embed-large-v1'"
   ]
  },
  {
   "cell_type": "markdown",
   "metadata": {},
   "source": [
    "# Grocery_and_Gourmet_Food"
   ]
  },
  {
   "cell_type": "markdown",
   "metadata": {},
   "source": [
    "## Select"
   ]
  },
  {
   "cell_type": "code",
   "execution_count": 4,
   "metadata": {},
   "outputs": [],
   "source": [
    "category = 'Grocery_and_Gourmet_Food'\n",
    "# ----------------------------------------Filter pairs-----------------------------------------------\n",
    "if not 'co_occurrence' in locals().keys():\n",
    "    co_occurrence = load_npz(f'co_occurrence/{category}.npz')\n",
    "    co_occurrence = co_occurrence.tocoo()\n",
    "if not 'sim' in locals().keys():\n",
    "    sim = pickle.load(open(f'cos_sim_of_co_occurence/{category}.pkl', 'rb'))"
   ]
  },
  {
   "cell_type": "code",
   "execution_count": null,
   "metadata": {},
   "outputs": [],
   "source": [
    "len(sim) # 88,601,340\n",
    "len([_ for _ in sim if _ > 0.65]) # 4,767,776\n",
    "len([_ for _ in sim if _ > 0.8]) # 414,030\n",
    "len([_ for _ in sim if _ > 0.9]) # 82,072"
   ]
  },
  {
   "cell_type": "code",
   "execution_count": null,
   "metadata": {},
   "outputs": [],
   "source": [
    "len([_ for _ in co_occurrence.data if _ > 0.1]) # 6,411,474\n",
    "len([_ for _ in co_occurrence.data if _ > 0.3]) # 40,732\n",
    "len([_ for _ in co_occurrence.data if _ > 0.5]) # 904\n",
    "len([_ for k, _ in enumerate(co_occurrence.data) if _ > 0.3 and \\\n",
    "                                                (co_occurrence.row[k] != co_occurrence.col[k])]) # 40,732"
   ]
  },
  {
   "cell_type": "code",
   "execution_count": 27,
   "metadata": {},
   "outputs": [
    {
     "name": "stderr",
     "output_type": "stream",
     "text": [
      "100%|██████████| 88601340/88601340 [00:27<00:00, 3276150.78it/s]"
     ]
    },
    {
     "name": "stdout",
     "output_type": "stream",
     "text": [
      "Length of pairs: 41036\n"
     ]
    },
    {
     "name": "stderr",
     "output_type": "stream",
     "text": [
      "\n"
     ]
    }
   ],
   "source": [
    "COS_SIM_THRESHOLD = 0.9\n",
    "\n",
    "pairs_9 = set()\n",
    "for i in tqdm(range(len(sim))):\n",
    "    if  sim[i] > COS_SIM_THRESHOLD and \\\n",
    "        (co_occurrence.col[i], co_occurrence.row[i]) not in pairs_9 and \\\n",
    "        (co_occurrence.row[i] != co_occurrence.col[i]):\n",
    "        pairs_9.add((co_occurrence.row[i], co_occurrence.col[i]))\n",
    "\n",
    "print(f\"Length of pairs: {len(pairs_9)}\")"
   ]
  },
  {
   "cell_type": "code",
   "execution_count": 12,
   "metadata": {},
   "outputs": [
    {
     "name": "stderr",
     "output_type": "stream",
     "text": [
      "100%|██████████| 88601340/88601340 [00:27<00:00, 3215902.97it/s]"
     ]
    },
    {
     "name": "stdout",
     "output_type": "stream",
     "text": [
      "Length of pairs: 2719\n"
     ]
    },
    {
     "name": "stderr",
     "output_type": "stream",
     "text": [
      "\n"
     ]
    }
   ],
   "source": [
    "CO_OCCURENCE_THRESHOLD = 0.3\n",
    "COS_SIM_THRESHOLD = 0.7\n",
    "\n",
    "pairs_37 = []\n",
    "for i in tqdm(range(len(sim))):\n",
    "    if co_occurrence.data[i] > CO_OCCURENCE_THRESHOLD and sim[i] > COS_SIM_THRESHOLD and \\\n",
    "        (co_occurrence.col[i], co_occurrence.row[i]) not in pairs_37 and \\\n",
    "        (co_occurrence.row[i] != co_occurrence.col[i]):\n",
    "        pairs_37.append((co_occurrence.row[i], co_occurrence.col[i]))\n",
    "\n",
    "print(f\"Length of pairs: {len(pairs_37)}\")\n",
    "\n",
    "with open(f'pairs/{category}.pkl', 'wb') as f:\n",
    "    pickle.dump(pairs_37, f)"
   ]
  },
  {
   "cell_type": "code",
   "execution_count": 14,
   "metadata": {},
   "outputs": [
    {
     "name": "stderr",
     "output_type": "stream",
     "text": [
      "100%|██████████| 88601340/88601340 [00:27<00:00, 3183431.99it/s]"
     ]
    },
    {
     "name": "stdout",
     "output_type": "stream",
     "text": [
      "Length of pairs: 5207\n"
     ]
    },
    {
     "name": "stderr",
     "output_type": "stream",
     "text": [
      "\n"
     ]
    }
   ],
   "source": [
    "CO_OCCURENCE_THRESHOLD = 0.2\n",
    "COS_SIM_THRESHOLD = 0.8\n",
    "\n",
    "pairs_28 = set()\n",
    "for i in tqdm(range(len(sim))):\n",
    "    if co_occurrence.data[i] > CO_OCCURENCE_THRESHOLD and sim[i] > COS_SIM_THRESHOLD and \\\n",
    "        (co_occurrence.col[i], co_occurrence.row[i]) not in pairs_28 and \\\n",
    "        (co_occurrence.row[i] != co_occurrence.col[i]):\n",
    "        pairs_28.add((co_occurrence.row[i], co_occurrence.col[i]))\n",
    "\n",
    "print(f\"Length of pairs: {len(pairs_28)}\")"
   ]
  },
  {
   "cell_type": "code",
   "execution_count": 17,
   "metadata": {},
   "outputs": [
    {
     "name": "stderr",
     "output_type": "stream",
     "text": [
      "100%|██████████| 88601340/88601340 [00:27<00:00, 3176807.57it/s]"
     ]
    },
    {
     "name": "stdout",
     "output_type": "stream",
     "text": [
      "Length of pairs: 31323\n"
     ]
    },
    {
     "name": "stderr",
     "output_type": "stream",
     "text": [
      "\n"
     ]
    }
   ],
   "source": [
    "CO_OCCURENCE_THRESHOLD = 0.1\n",
    "COS_SIM_THRESHOLD = 0.8\n",
    "\n",
    "pairs_18 = set()\n",
    "for i in tqdm(range(len(sim))):\n",
    "    if co_occurrence.data[i] > CO_OCCURENCE_THRESHOLD and sim[i] > COS_SIM_THRESHOLD and \\\n",
    "        (co_occurrence.col[i], co_occurrence.row[i]) not in pairs_18 and \\\n",
    "        (co_occurrence.row[i] != co_occurrence.col[i]):\n",
    "        pairs_18.add((co_occurrence.row[i], co_occurrence.col[i]))\n",
    "\n",
    "print(f\"Length of pairs: {len(pairs_18)}\")"
   ]
  },
  {
   "cell_type": "code",
   "execution_count": 18,
   "metadata": {},
   "outputs": [
    {
     "name": "stderr",
     "output_type": "stream",
     "text": [
      "100%|██████████| 88601340/88601340 [00:27<00:00, 3168787.04it/s]"
     ]
    },
    {
     "name": "stdout",
     "output_type": "stream",
     "text": [
      "Length of pairs: 9236\n"
     ]
    },
    {
     "name": "stderr",
     "output_type": "stream",
     "text": [
      "\n"
     ]
    }
   ],
   "source": [
    "CO_OCCURENCE_THRESHOLD = 0.1\n",
    "COS_SIM_THRESHOLD = 0.9\n",
    "\n",
    "pairs_19 = set()\n",
    "for i in tqdm(range(len(sim))):\n",
    "    if co_occurrence.data[i] > CO_OCCURENCE_THRESHOLD and sim[i] > COS_SIM_THRESHOLD and \\\n",
    "        (co_occurrence.col[i], co_occurrence.row[i]) not in pairs_19 and \\\n",
    "        (co_occurrence.row[i] != co_occurrence.col[i]):\n",
    "        pairs_19.add((co_occurrence.row[i], co_occurrence.col[i]))\n",
    "\n",
    "print(f\"Length of pairs: {len(pairs_19)}\")"
   ]
  },
  {
   "cell_type": "code",
   "execution_count": 15,
   "metadata": {},
   "outputs": [],
   "source": [
    "with open(f'pairs/{category}_2_8.pkl', 'wb') as f:\n",
    "    pickle.dump(pairs_28, f)"
   ]
  },
  {
   "cell_type": "code",
   "execution_count": null,
   "metadata": {},
   "outputs": [],
   "source": [
    "with open(f'pairs/{category}_1_9.pkl', 'wb') as f:\n",
    "    pickle.dump(pairs_19, f)"
   ]
  },
  {
   "cell_type": "code",
   "execution_count": 13,
   "metadata": {},
   "outputs": [
    {
     "name": "stderr",
     "output_type": "stream",
     "text": [
      "100%|██████████| 88601340/88601340 [00:57<00:00, 1543446.98it/s]"
     ]
    },
    {
     "name": "stdout",
     "output_type": "stream",
     "text": [
      "Length of pairs: 20366\n"
     ]
    },
    {
     "name": "stderr",
     "output_type": "stream",
     "text": [
      "\n"
     ]
    }
   ],
   "source": [
    "CO_OCCURENCE_THRESHOLD = 0.3\n",
    "pairs = []\n",
    "for i in tqdm(range(len(sim))):\n",
    "    if co_occurrence.data[i] > CO_OCCURENCE_THRESHOLD and \\\n",
    "        (co_occurrence.col[i], co_occurrence.row[i]) not in pairs and \\\n",
    "        (co_occurrence.row[i] != co_occurrence.col[i]):\n",
    "        pairs.append((co_occurrence.row[i], co_occurrence.col[i]))\n",
    "print(f\"Length of pairs: {len(pairs)}\")"
   ]
  },
  {
   "cell_type": "code",
   "execution_count": 14,
   "metadata": {},
   "outputs": [
    {
     "name": "stderr",
     "output_type": "stream",
     "text": [
      "100%|██████████| 88601340/88601340 [22:05<00:00, 66849.94it/s]  "
     ]
    },
    {
     "name": "stdout",
     "output_type": "stream",
     "text": [
      "Length of pairs: 187569\n"
     ]
    },
    {
     "name": "stderr",
     "output_type": "stream",
     "text": [
      "\n"
     ]
    }
   ],
   "source": [
    "CO_OCCURENCE_THRESHOLD = 0.2\n",
    "pairs = set()\n",
    "for i in tqdm(range(len(sim))):\n",
    "    if co_occurrence.data[i] > CO_OCCURENCE_THRESHOLD and \\\n",
    "        (co_occurrence.col[i], co_occurrence.row[i]) not in pairs and \\\n",
    "        (co_occurrence.row[i] != co_occurrence.col[i]):\n",
    "        pairs.add((co_occurrence.row[i], co_occurrence.col[i]))\n",
    "print(f\"Length of pairs: {len(pairs)}\")"
   ]
  },
  {
   "cell_type": "code",
   "execution_count": 15,
   "metadata": {},
   "outputs": [
    {
     "name": "stderr",
     "output_type": "stream",
     "text": [
      "100%|██████████| 88601340/88601340 [00:40<00:00, 2180320.97it/s]"
     ]
    },
    {
     "name": "stdout",
     "output_type": "stream",
     "text": [
      "Length of pairs: 11801\n"
     ]
    },
    {
     "name": "stderr",
     "output_type": "stream",
     "text": [
      "\n"
     ]
    }
   ],
   "source": [
    "CO_OCCURENCE_THRESHOLD = 0.2\n",
    "COS_SIM_THRESHOLD = 0.7\n",
    "pairs_27 = set()\n",
    "for i in tqdm(range(len(sim))):\n",
    "    if co_occurrence.data[i] > CO_OCCURENCE_THRESHOLD and sim[i] > COS_SIM_THRESHOLD and \\\n",
    "        (co_occurrence.col[i], co_occurrence.row[i]) not in pairs_27 and \\\n",
    "        (co_occurrence.row[i] != co_occurrence.col[i]):\n",
    "        pairs_27.add((co_occurrence.row[i], co_occurrence.col[i]))\n",
    "print(f\"Length of pairs: {len(pairs_27)}\")"
   ]
  },
  {
   "cell_type": "code",
   "execution_count": 5,
   "metadata": {},
   "outputs": [
    {
     "name": "stderr",
     "output_type": "stream",
     "text": [
      "  0%|          | 246006/88601340 [00:00<00:35, 2459786.71it/s]"
     ]
    },
    {
     "name": "stderr",
     "output_type": "stream",
     "text": [
      "100%|██████████| 88601340/88601340 [00:29<00:00, 2959751.42it/s]"
     ]
    },
    {
     "name": "stdout",
     "output_type": "stream",
     "text": [
      "Length of pairs: 21716\n"
     ]
    },
    {
     "name": "stderr",
     "output_type": "stream",
     "text": [
      "\n"
     ]
    }
   ],
   "source": [
    "CO_OCCURENCE_THRESHOLD = 0.2\n",
    "COS_SIM_THRESHOLD = 0.65\n",
    "pairs_265 = set()\n",
    "for i in tqdm(range(len(sim))):\n",
    "    if co_occurrence.data[i] > CO_OCCURENCE_THRESHOLD and sim[i] > COS_SIM_THRESHOLD and \\\n",
    "        (co_occurrence.col[i], co_occurrence.row[i]) not in pairs_265 and \\\n",
    "        (co_occurrence.row[i] != co_occurrence.col[i]):\n",
    "        pairs_265.add((co_occurrence.row[i], co_occurrence.col[i]))\n",
    "print(f\"Length of pairs: {len(pairs_265)}\")\n",
    "\n",
    "with open(f'pairs/{category}.pkl', 'wb') as f:\n",
    "    pickle.dump(pairs_265, f)"
   ]
  },
  {
   "cell_type": "markdown",
   "metadata": {},
   "source": [
    "## Stats"
   ]
  },
  {
   "cell_type": "code",
   "execution_count": 19,
   "metadata": {},
   "outputs": [
    {
     "name": "stdout",
     "output_type": "stream",
     "text": [
      "0.3102285714285714\n"
     ]
    }
   ],
   "source": [
    "from collections import defaultdict\n",
    "item_cnt = defaultdict(int)\n",
    "for i, j in pairs_265:\n",
    "    item_cnt[i] += 1\n",
    "    item_cnt[j] += 1\n",
    "\n",
    "avg_cnt = 0\n",
    "for i in range(1, 140000):\n",
    "    avg_cnt += item_cnt.get(i, 0)\n",
    "avg_cnt /= 140000\n",
    "print(avg_cnt)\n",
    "\n",
    "item_cnt_lst = [item_cnt.get(i, 0) for i in range(1, 140000)]"
   ]
  },
  {
   "cell_type": "code",
   "execution_count": 25,
   "metadata": {},
   "outputs": [
    {
     "data": {
      "image/png": "[encoded data removed]",
      "text/plain": [
       "<Figure size 640x480 with 1 Axes>"
      ]
     },
     "metadata": {},
     "output_type": "display_data"
    }
   ],
   "source": [
    "import matplotlib.pyplot as plt\n",
    "plt.hist([_ for _ in item_cnt_lst if _ < 10 and _ > 0], bins=10, color='blue')\n",
    "plt.show()"
   ]
  },
  {
   "cell_type": "code",
   "execution_count": null,
   "metadata": {},
   "outputs": [],
   "source": [
    "print(len([i for i in range(1, 140000) if i not in item_cnt])) # 125,483\n",
    "len(item_cnt.keys()) # 14,516"
   ]
  },
  {
   "cell_type": "code",
   "execution_count": 28,
   "metadata": {},
   "outputs": [
    {
     "data": {
      "text/plain": [
       "38411"
      ]
     },
     "execution_count": 28,
     "metadata": {},
     "output_type": "execute_result"
    }
   ],
   "source": [
    "item_cnt = defaultdict(int)\n",
    "for i, j in pairs_9:\n",
    "    item_cnt[i] += 1\n",
    "    item_cnt[j] += 1\n",
    "len(item_cnt.keys())"
   ]
  },
  {
   "cell_type": "code",
   "execution_count": 13,
   "metadata": {},
   "outputs": [
    {
     "data": {
      "text/plain": [
       "3720"
      ]
     },
     "execution_count": 13,
     "metadata": {},
     "output_type": "execute_result"
    }
   ],
   "source": [
    "item_cnt = defaultdict(int)\n",
    "for i, j in pairs_37:\n",
    "    item_cnt[i] += 1\n",
    "    item_cnt[j] += 1\n",
    "len(item_cnt.keys())"
   ]
  },
  {
   "cell_type": "code",
   "execution_count": 16,
   "metadata": {},
   "outputs": [
    {
     "data": {
      "text/plain": [
       "7502"
      ]
     },
     "execution_count": 16,
     "metadata": {},
     "output_type": "execute_result"
    }
   ],
   "source": [
    "item_cnt = defaultdict(int)\n",
    "for i, j in pairs_28:\n",
    "    item_cnt[i] += 1\n",
    "    item_cnt[j] += 1\n",
    "len(item_cnt.keys())"
   ]
  },
  {
   "cell_type": "code",
   "execution_count": 6,
   "metadata": {},
   "outputs": [
    {
     "data": {
      "text/plain": [
       "14516"
      ]
     },
     "execution_count": 6,
     "metadata": {},
     "output_type": "execute_result"
    }
   ],
   "source": [
    "item_cnt = defaultdict(int)\n",
    "for i, j in pairs_265:\n",
    "    item_cnt[i] += 1\n",
    "    item_cnt[j] += 1\n",
    "len(item_cnt.keys())"
   ]
  },
  {
   "cell_type": "code",
   "execution_count": 25,
   "metadata": {},
   "outputs": [
    {
     "name": "stderr",
     "output_type": "stream",
     "text": [
      "100%|██████████| 14516/14516 [01:45<00:00, 137.15it/s] \n"
     ]
    }
   ],
   "source": [
    "all_items = torch.tensor(list(item_cnt.keys()))\n",
    "\n",
    "if not 'guide_model_text_embedding' in locals().keys():\n",
    "    guide_model_text_embedding = torch.load(f'guide_model_text_embeddings/{category}.pt')\n",
    "guide_model_text_embedding = guide_model_text_embedding.cuda()\n",
    "\n",
    "sim = 0\n",
    "cnt = 0\n",
    "for i in tqdm(range(len(all_items))):\n",
    "    item_i = all_items[i].unsqueeze(-1).cuda()\n",
    "    emb_i = guide_model_text_embedding(item_i)\n",
    "    emb_i = torch.nn.functional.normalize(emb_i, p=2, dim=1)\n",
    "    item_j = all_items[i + 1:]\n",
    "    for start in range(0, len(item_j), BATCH_SIZE):\n",
    "        end = min(start + BATCH_SIZE, len(all_items))\n",
    "        batch_item_j = item_j[start:end].cuda()\n",
    "        emb_j = guide_model_text_embedding(batch_item_j)\n",
    "        emb_j = torch.nn.functional.normalize(emb_j, p=2, dim=1)\n",
    "        sim += (emb_i * emb_j).sum()\n",
    "        cnt += end - start\n",
    "\n",
    "avg_sim = sim / cnt\n",
    "avg_sim # 0.5027"
   ]
  },
  {
   "cell_type": "markdown",
   "metadata": {},
   "source": [
    "# CDs_and_Vinyl"
   ]
  },
  {
   "cell_type": "code",
   "execution_count": 17,
   "metadata": {},
   "outputs": [],
   "source": [
    "category = 'CDs_and_Vinyl'\n",
    "co_occurrence = load_npz(f'co_occurrence/{category}.npz')\n",
    "co_occurrence = co_occurrence.tocoo()\n",
    "sim = pickle.load(open(f'cos_sim_of_co_occurence/{category}.pkl', 'rb'))"
   ]
  },
  {
   "cell_type": "code",
   "execution_count": 4,
   "metadata": {},
   "outputs": [
    {
     "name": "stderr",
     "output_type": "stream",
     "text": [
      "100%|██████████| 70245054/70245054 [00:24<00:00, 2832228.65it/s]"
     ]
    },
    {
     "name": "stdout",
     "output_type": "stream",
     "text": [
      "Length of pairs: 32008\n"
     ]
    },
    {
     "name": "stderr",
     "output_type": "stream",
     "text": [
      "\n"
     ]
    }
   ],
   "source": [
    "CO_OCCURENCE_THRESHOLD = 0.2\n",
    "COS_SIM_THRESHOLD = 0.65\n",
    "pairs_265 = set()\n",
    "for i in tqdm(range(len(sim))):\n",
    "    if co_occurrence.data[i] > CO_OCCURENCE_THRESHOLD and sim[i] > COS_SIM_THRESHOLD and \\\n",
    "        (co_occurrence.col[i], co_occurrence.row[i]) not in pairs_265 and \\\n",
    "        (co_occurrence.row[i] != co_occurrence.col[i]):\n",
    "        pairs_265.add((co_occurrence.row[i], co_occurrence.col[i]))\n",
    "print(f\"Length of pairs: {len(pairs_265)}\")\n",
    "with open(f'pairs/{category}.pkl', 'wb') as f:\n",
    "    pickle.dump(pairs_265, f)"
   ]
  },
  {
   "cell_type": "code",
   "execution_count": 13,
   "metadata": {},
   "outputs": [
    {
     "name": "stderr",
     "output_type": "stream",
     "text": [
      "100%|██████████| 70245054/70245054 [00:23<00:00, 3016591.20it/s]"
     ]
    },
    {
     "name": "stdout",
     "output_type": "stream",
     "text": [
      "Length of pairs: 19962\n"
     ]
    },
    {
     "name": "stderr",
     "output_type": "stream",
     "text": [
      "\n"
     ]
    }
   ],
   "source": [
    "CO_OCCURENCE_THRESHOLD = 0.2\n",
    "COS_SIM_THRESHOLD = 0.7\n",
    "pairs_27 = set()\n",
    "for i in tqdm(range(len(sim))):\n",
    "    if co_occurrence.data[i] > CO_OCCURENCE_THRESHOLD and sim[i] > COS_SIM_THRESHOLD and \\\n",
    "        (co_occurrence.col[i], co_occurrence.row[i]) not in pairs_27 and \\\n",
    "        (co_occurrence.row[i] != co_occurrence.col[i]):\n",
    "        pairs_27.add((co_occurrence.row[i], co_occurrence.col[i]))\n",
    "print(f\"Length of pairs: {len(pairs_27)}\")\n",
    "with open(f'pairs/{category}_27.pkl', 'wb') as f:\n",
    "    pickle.dump(pairs_27, f)"
   ]
  },
  {
   "cell_type": "code",
   "execution_count": 7,
   "metadata": {},
   "outputs": [
    {
     "name": "stderr",
     "output_type": "stream",
     "text": [
      "100%|██████████| 26148/26148 [05:41<00:00, 76.55it/s]  \n"
     ]
    },
    {
     "data": {
      "text/plain": [
       "tensor(0.4426, device='cuda:0')"
      ]
     },
     "execution_count": 7,
     "metadata": {},
     "output_type": "execute_result"
    }
   ],
   "source": [
    "from collections import defaultdict\n",
    "item_cnt = defaultdict(int)\n",
    "for i, j in pairs_265:\n",
    "    item_cnt[i] += 1\n",
    "    item_cnt[j] += 1\n",
    "\n",
    "all_items = torch.tensor(list(item_cnt.keys()))\n",
    "\n",
    "guide_model_text_embedding = torch.load(f'guide_model_text_embeddings/{category}.pt')\n",
    "guide_model_text_embedding = guide_model_text_embedding.cuda()\n",
    "\n",
    "sim = 0\n",
    "cnt = 0\n",
    "for i in tqdm(range(len(all_items))):\n",
    "    item_i = all_items[i].unsqueeze(-1).cuda()\n",
    "    emb_i = guide_model_text_embedding(item_i)\n",
    "    emb_i = torch.nn.functional.normalize(emb_i, p=2, dim=1)\n",
    "    item_j = all_items[i + 1:]\n",
    "    for start in range(0, len(item_j), BATCH_SIZE):\n",
    "        end = min(start + BATCH_SIZE, len(all_items))\n",
    "        batch_item_j = item_j[start:end].cuda()\n",
    "        emb_j = guide_model_text_embedding(batch_item_j)\n",
    "        emb_j = torch.nn.functional.normalize(emb_j, p=2, dim=1)\n",
    "        sim += (emb_i * emb_j).sum()\n",
    "        cnt += end - start\n",
    "\n",
    "avg_sim = sim / cnt\n",
    "avg_sim # 0.4426"
   ]
  },
  {
   "cell_type": "code",
   "execution_count": 18,
   "metadata": {},
   "outputs": [
    {
     "name": "stderr",
     "output_type": "stream",
     "text": [
      "100%|██████████| 19546/19546 [03:09<00:00, 102.99it/s] \n"
     ]
    },
    {
     "data": {
      "text/plain": [
       "tensor(0.4435, device='cuda:0')"
      ]
     },
     "execution_count": 18,
     "metadata": {},
     "output_type": "execute_result"
    }
   ],
   "source": [
    "from collections import defaultdict\n",
    "item_cnt = defaultdict(int)\n",
    "for i, j in pairs_27:\n",
    "    item_cnt[i] += 1\n",
    "    item_cnt[j] += 1\n",
    "\n",
    "all_items = torch.tensor(list(item_cnt.keys()))\n",
    "\n",
    "guide_model_text_embedding = torch.load(f'guide_model_text_embeddings/{category}.pt')\n",
    "guide_model_text_embedding = guide_model_text_embedding.cuda()\n",
    "\n",
    "sim = 0\n",
    "cnt = 0\n",
    "for i in tqdm(range(len(all_items))):\n",
    "    item_i = all_items[i].unsqueeze(-1).cuda()\n",
    "    emb_i = guide_model_text_embedding(item_i)\n",
    "    emb_i = torch.nn.functional.normalize(emb_i, p=2, dim=1)\n",
    "    item_j = all_items[i + 1:]\n",
    "    for start in range(0, len(item_j), BATCH_SIZE):\n",
    "        end = min(start + BATCH_SIZE, len(all_items))\n",
    "        batch_item_j = item_j[start:end].cuda()\n",
    "        emb_j = guide_model_text_embedding(batch_item_j)\n",
    "        emb_j = torch.nn.functional.normalize(emb_j, p=2, dim=1)\n",
    "        sim += (emb_i * emb_j).sum()\n",
    "        cnt += end - start\n",
    "\n",
    "avg_sim = sim / cnt\n",
    "avg_sim # 0.4435"
   ]
  },
  {
   "cell_type": "markdown",
   "metadata": {},
   "source": [
    "# Electronics"
   ]
  },
  {
   "cell_type": "code",
   "execution_count": 29,
   "metadata": {},
   "outputs": [
    {
     "name": "stderr",
     "output_type": "stream",
     "text": [
      "100%|██████████| 221214226/221214226 [01:09<00:00, 3182753.60it/s]"
     ]
    },
    {
     "name": "stdout",
     "output_type": "stream",
     "text": [
      "Length of pairs: 8664\n"
     ]
    },
    {
     "name": "stderr",
     "output_type": "stream",
     "text": [
      "\n"
     ]
    }
   ],
   "source": [
    "category = 'Electronics'\n",
    "co_occurrence = load_npz(f'co_occurrence/{category}.npz')\n",
    "co_occurrence = co_occurrence.tocoo()\n",
    "sim = pickle.load(open(f'cos_sim_of_co_occurence/{category}.pkl', 'rb'))\n",
    "\n",
    "CO_OCCURENCE_THRESHOLD = 0.2\n",
    "COS_SIM_THRESHOLD = 0.65\n",
    "pairs_265 = set()\n",
    "for i in tqdm(range(len(sim))):\n",
    "    if co_occurrence.data[i] > CO_OCCURENCE_THRESHOLD and sim[i] > COS_SIM_THRESHOLD and \\\n",
    "        (co_occurrence.col[i], co_occurrence.row[i]) not in pairs_265 and \\\n",
    "        (co_occurrence.row[i] != co_occurrence.col[i]):\n",
    "        pairs_265.add((co_occurrence.row[i], co_occurrence.col[i]))\n",
    "print(f\"Length of pairs: {len(pairs_265)}\")\n",
    "\n",
    "with open(f'pairs/{category}.pkl', 'wb') as f:\n",
    "    pickle.dump(pairs_265, f)"
   ]
  },
  {
   "cell_type": "code",
   "execution_count": 20,
   "metadata": {},
   "outputs": [
    {
     "name": "stderr",
     "output_type": "stream",
     "text": [
      "100%|██████████| 10861/10861 [01:00<00:00, 180.61it/s] \n"
     ]
    },
    {
     "data": {
      "text/plain": [
       "tensor(0.4709, device='cuda:0')"
      ]
     },
     "execution_count": 20,
     "metadata": {},
     "output_type": "execute_result"
    }
   ],
   "source": [
    "from collections import defaultdict\n",
    "item_cnt = defaultdict(int)\n",
    "for i, j in pairs_265:\n",
    "    item_cnt[i] += 1\n",
    "    item_cnt[j] += 1\n",
    "\n",
    "all_items = torch.tensor(list(item_cnt.keys()))\n",
    "\n",
    "guide_model_text_embedding = torch.load(f'guide_model_text_embeddings/{category}.pt')\n",
    "guide_model_text_embedding = guide_model_text_embedding.cuda()\n",
    "\n",
    "sim = 0\n",
    "cnt = 0\n",
    "for i in tqdm(range(len(all_items))):\n",
    "    item_i = all_items[i].unsqueeze(-1).cuda()\n",
    "    emb_i = guide_model_text_embedding(item_i)\n",
    "    emb_i = torch.nn.functional.normalize(emb_i, p=2, dim=1)\n",
    "    item_j = all_items[i + 1:]\n",
    "    for start in range(0, len(item_j), BATCH_SIZE):\n",
    "        end = min(start + BATCH_SIZE, len(all_items))\n",
    "        batch_item_j = item_j[start:end].cuda()\n",
    "        emb_j = guide_model_text_embedding(batch_item_j)\n",
    "        emb_j = torch.nn.functional.normalize(emb_j, p=2, dim=1)\n",
    "        sim += (emb_i * emb_j).sum()\n",
    "        cnt += end - start\n",
    "\n",
    "avg_sim = sim / cnt\n",
    "avg_sim # 0.4709"
   ]
  },
  {
   "cell_type": "markdown",
   "metadata": {},
   "source": [
    "# Kindle_Store"
   ]
  },
  {
   "cell_type": "code",
   "execution_count": 21,
   "metadata": {},
   "outputs": [],
   "source": [
    "category = 'Kindle_Store'\n",
    "co_occurrence = load_npz(f'co_occurrence/{category}.npz')\n",
    "co_occurrence = co_occurrence.tocoo()\n",
    "sim = pickle.load(open(f'cos_sim_of_co_occurence/{category}.pkl', 'rb'))"
   ]
  },
  {
   "cell_type": "code",
   "execution_count": 22,
   "metadata": {},
   "outputs": [
    {
     "name": "stderr",
     "output_type": "stream",
     "text": [
      "100%|██████████| 1489476238/1489476238 [08:29<00:00, 2922688.37it/s]"
     ]
    },
    {
     "name": "stdout",
     "output_type": "stream",
     "text": [
      "Length of pairs: 2919321\n"
     ]
    },
    {
     "name": "stderr",
     "output_type": "stream",
     "text": [
      "\n"
     ]
    }
   ],
   "source": [
    "CO_OCCURENCE_THRESHOLD = 0.2\n",
    "COS_SIM_THRESHOLD = 0.65\n",
    "pairs_265 = set()\n",
    "for i in tqdm(range(len(sim))):\n",
    "    if co_occurrence.data[i] > CO_OCCURENCE_THRESHOLD and sim[i] > COS_SIM_THRESHOLD and \\\n",
    "        (co_occurrence.col[i], co_occurrence.row[i]) not in pairs_265 and \\\n",
    "        (co_occurrence.row[i] != co_occurrence.col[i]):\n",
    "        pairs_265.add((co_occurrence.row[i], co_occurrence.col[i]))\n",
    "print(f\"Length of pairs: {len(pairs_265)}\")"
   ]
  },
  {
   "cell_type": "code",
   "execution_count": 23,
   "metadata": {},
   "outputs": [
    {
     "name": "stderr",
     "output_type": "stream",
     "text": [
      "100%|██████████| 1489476238/1489476238 [08:00<00:00, 3102919.96it/s]"
     ]
    },
    {
     "name": "stdout",
     "output_type": "stream",
     "text": [
      "Length of pairs: 292755\n"
     ]
    },
    {
     "name": "stderr",
     "output_type": "stream",
     "text": [
      "\n"
     ]
    }
   ],
   "source": [
    "CO_OCCURENCE_THRESHOLD = 0.3\n",
    "COS_SIM_THRESHOLD = 0.8\n",
    "pairs_38 = set()\n",
    "for i in tqdm(range(len(sim))):\n",
    "    if co_occurrence.data[i] > CO_OCCURENCE_THRESHOLD and sim[i] > COS_SIM_THRESHOLD and \\\n",
    "        (co_occurrence.col[i], co_occurrence.row[i]) not in pairs_38 and \\\n",
    "        (co_occurrence.row[i] != co_occurrence.col[i]):\n",
    "        pairs_38.add((co_occurrence.row[i], co_occurrence.col[i]))\n",
    "print(f\"Length of pairs: {len(pairs_38)}\")"
   ]
  },
  {
   "cell_type": "code",
   "execution_count": 24,
   "metadata": {},
   "outputs": [
    {
     "name": "stderr",
     "output_type": "stream",
     "text": [
      "100%|██████████| 1489476238/1489476238 [08:11<00:00, 3029533.10it/s]"
     ]
    },
    {
     "name": "stdout",
     "output_type": "stream",
     "text": [
      "Length of pairs: 26114\n"
     ]
    },
    {
     "name": "stderr",
     "output_type": "stream",
     "text": [
      "\n"
     ]
    }
   ],
   "source": [
    "CO_OCCURENCE_THRESHOLD = 0.4\n",
    "COS_SIM_THRESHOLD = 0.9\n",
    "pairs_49 = set()\n",
    "for i in tqdm(range(len(sim))):\n",
    "    if co_occurrence.data[i] > CO_OCCURENCE_THRESHOLD and sim[i] > COS_SIM_THRESHOLD and \\\n",
    "        (co_occurrence.col[i], co_occurrence.row[i]) not in pairs_49 and \\\n",
    "        (co_occurrence.row[i] != co_occurrence.col[i]):\n",
    "        pairs_49.add((co_occurrence.row[i], co_occurrence.col[i]))\n",
    "print(f\"Length of pairs: {len(pairs_49)}\")\n",
    "\n",
    "with open(f'pairs/{category}.pkl', 'wb') as f:\n",
    "    pickle.dump(pairs_49, f)"
   ]
  },
  {
   "cell_type": "code",
   "execution_count": 26,
   "metadata": {},
   "outputs": [
    {
     "name": "stderr",
     "output_type": "stream",
     "text": [
      "100%|██████████| 1489476238/1489476238 [08:19<00:00, 2980004.91it/s]"
     ]
    },
    {
     "name": "stdout",
     "output_type": "stream",
     "text": [
      "Length of pairs: 15397\n"
     ]
    },
    {
     "name": "stderr",
     "output_type": "stream",
     "text": [
      "\n"
     ]
    }
   ],
   "source": [
    "CO_OCCURENCE_THRESHOLD = 0.5\n",
    "COS_SIM_THRESHOLD = 0.9\n",
    "pairs_59 = set()\n",
    "for i in tqdm(range(len(sim))):\n",
    "    if co_occurrence.data[i] > CO_OCCURENCE_THRESHOLD and sim[i] > COS_SIM_THRESHOLD and \\\n",
    "        (co_occurrence.col[i], co_occurrence.row[i]) not in pairs_59 and \\\n",
    "        (co_occurrence.row[i] != co_occurrence.col[i]):\n",
    "        pairs_59.add((co_occurrence.row[i], co_occurrence.col[i]))\n",
    "print(f\"Length of pairs: {len(pairs_59)}\")\n",
    "\n",
    "with open(f'pairs/{category}_59.pkl', 'wb') as f:\n",
    "    pickle.dump(pairs_59, f)"
   ]
  },
  {
   "cell_type": "code",
   "execution_count": 28,
   "metadata": {},
   "outputs": [
    {
     "name": "stderr",
     "output_type": "stream",
     "text": [
      "100%|██████████| 16739/16739 [02:37<00:00, 106.55it/s] \n"
     ]
    },
    {
     "data": {
      "text/plain": [
       "tensor(0.5811, device='cuda:0')"
      ]
     },
     "execution_count": 28,
     "metadata": {},
     "output_type": "execute_result"
    }
   ],
   "source": [
    "from collections import defaultdict\n",
    "item_cnt = defaultdict(int)\n",
    "for i, j in pairs_59:\n",
    "    item_cnt[i] += 1\n",
    "    item_cnt[j] += 1\n",
    "\n",
    "all_items = torch.tensor(list(item_cnt.keys()))\n",
    "\n",
    "guide_model_text_embedding = torch.load(f'guide_model_text_embeddings/{category}.pt')\n",
    "guide_model_text_embedding = guide_model_text_embedding.cuda()\n",
    "\n",
    "sim = 0\n",
    "cnt = 0\n",
    "for i in tqdm(range(len(all_items))):\n",
    "    item_i = all_items[i].unsqueeze(-1).cuda()\n",
    "    emb_i = guide_model_text_embedding(item_i)\n",
    "    emb_i = torch.nn.functional.normalize(emb_i, p=2, dim=1)\n",
    "    item_j = all_items[i + 1:]\n",
    "    for start in range(0, len(item_j), BATCH_SIZE):\n",
    "        end = min(start + BATCH_SIZE, len(all_items))\n",
    "        batch_item_j = item_j[start:end].cuda()\n",
    "        emb_j = guide_model_text_embedding(batch_item_j)\n",
    "        emb_j = torch.nn.functional.normalize(emb_j, p=2, dim=1)\n",
    "        sim += (emb_i * emb_j).sum()\n",
    "        cnt += end - start\n",
    "\n",
    "avg_sim = sim / cnt\n",
    "avg_sim # 0.5811"
   ]
  },
  {
   "cell_type": "markdown",
   "metadata": {},
   "source": [
    "# Clothing_Shoes_and_Jewelry"
   ]
  },
  {
   "cell_type": "code",
   "execution_count": 33,
   "metadata": {},
   "outputs": [],
   "source": [
    "category = 'Clothing_Shoes_and_Jewelry'\n",
    "co_occurrence = load_npz(f'co_occurrence/{category}.npz')\n",
    "co_occurrence = co_occurrence.tocoo()\n",
    "sim = pickle.load(open(f'cos_sim_of_co_occurence/{category}.pkl', 'rb'))"
   ]
  },
  {
   "cell_type": "code",
   "execution_count": 34,
   "metadata": {},
   "outputs": [
    {
     "name": "stderr",
     "output_type": "stream",
     "text": [
      "100%|██████████| 379564110/379564110 [02:06<00:00, 3009388.08it/s]"
     ]
    },
    {
     "name": "stdout",
     "output_type": "stream",
     "text": [
      "Length of pairs: 17211\n"
     ]
    },
    {
     "name": "stderr",
     "output_type": "stream",
     "text": [
      "\n"
     ]
    }
   ],
   "source": [
    "CO_OCCURENCE_THRESHOLD = 0.2\n",
    "COS_SIM_THRESHOLD = 0.75\n",
    "pairs_275 = set()\n",
    "for i in tqdm(range(len(sim))):\n",
    "    if co_occurrence.data[i] > CO_OCCURENCE_THRESHOLD and sim[i] > COS_SIM_THRESHOLD and \\\n",
    "        (co_occurrence.col[i], co_occurrence.row[i]) not in pairs_275 and \\\n",
    "        (co_occurrence.row[i] != co_occurrence.col[i]):\n",
    "        pairs_275.add((co_occurrence.row[i], co_occurrence.col[i]))\n",
    "print(f\"Length of pairs: {len(pairs_275)}\")"
   ]
  },
  {
   "cell_type": "code",
   "execution_count": 35,
   "metadata": {},
   "outputs": [],
   "source": [
    "with open(f'pairs/{category}.pkl', 'wb') as f:\n",
    "    pickle.dump(pairs_275, f)"
   ]
  },
  {
   "cell_type": "code",
   "execution_count": 36,
   "metadata": {},
   "outputs": [
    {
     "name": "stderr",
     "output_type": "stream",
     "text": [
      "100%|██████████| 17976/17976 [02:41<00:00, 111.33it/s] \n"
     ]
    },
    {
     "data": {
      "text/plain": [
       "tensor(0.5134, device='cuda:0')"
      ]
     },
     "execution_count": 36,
     "metadata": {},
     "output_type": "execute_result"
    }
   ],
   "source": [
    "from collections import defaultdict\n",
    "item_cnt = defaultdict(int)\n",
    "for i, j in pairs_275:\n",
    "    item_cnt[i] += 1\n",
    "    item_cnt[j] += 1\n",
    "\n",
    "all_items = torch.tensor(list(item_cnt.keys()))\n",
    "\n",
    "guide_model_text_embedding = torch.load(f'guide_model_text_embeddings/{category}.pt')\n",
    "guide_model_text_embedding = guide_model_text_embedding.cuda()\n",
    "\n",
    "sim = 0\n",
    "cnt = 0\n",
    "for i in tqdm(range(len(all_items))):\n",
    "    item_i = all_items[i].unsqueeze(-1).cuda()\n",
    "    emb_i = guide_model_text_embedding(item_i)\n",
    "    emb_i = torch.nn.functional.normalize(emb_i, p=2, dim=1)\n",
    "    item_j = all_items[i + 1:]\n",
    "    for start in range(0, len(item_j), BATCH_SIZE):\n",
    "        end = min(start + BATCH_SIZE, len(all_items))\n",
    "        batch_item_j = item_j[start:end].cuda()\n",
    "        emb_j = guide_model_text_embedding(batch_item_j)\n",
    "        emb_j = torch.nn.functional.normalize(emb_j, p=2, dim=1)\n",
    "        sim += (emb_i * emb_j).sum()\n",
    "        cnt += end - start\n",
    "\n",
    "avg_sim = sim / cnt\n",
    "avg_sim"
   ]
  },
  {
   "cell_type": "markdown",
   "metadata": {},
   "source": [
    "# Health_and_Household"
   ]
  },
  {
   "cell_type": "code",
   "execution_count": null,
   "metadata": {},
   "outputs": [],
   "source": [
    "category = 'Health_and_Household'\n",
    "co_occurrence = load_npz(f'co_occurrence/{category}.npz')\n",
    "co_occurrence = co_occurrence.tocoo()\n",
    "sim = pickle.load(open(f'cos_sim_of_co_occurence/{category}.pkl', 'rb'))\n",
    "\n",
    "\n",
    "CO_OCCURENCE_THRESHOLD = 0.2\n",
    "COS_SIM_THRESHOLD = 0.65\n",
    "pairs_265 = set()\n",
    "for i in tqdm(range(len(sim))):\n",
    "    if co_occurrence.data[i] > CO_OCCURENCE_THRESHOLD and sim[i] > COS_SIM_THRESHOLD and \\\n",
    "        (co_occurrence.col[i], co_occurrence.row[i]) not in pairs_265 and \\\n",
    "        (co_occurrence.row[i] != co_occurrence.col[i]):\n",
    "        pairs_265.add((co_occurrence.row[i], co_occurrence.col[i]))\n",
    "print(f\"Length of pairs: {len(pairs_265)}\")\n",
    "# 100%|██████████| 151069450/151069450 [01:48<00:00, 1388747.61it/s]\n",
    "# Length of pairs: 56631\n",
    "\n",
    "\n",
    "CO_OCCURENCE_THRESHOLD = 0.2\n",
    "COS_SIM_THRESHOLD = 0.75\n",
    "pairs_275 = set()\n",
    "for i in tqdm(range(len(sim))):\n",
    "    if co_occurrence.data[i] > CO_OCCURENCE_THRESHOLD and sim[i] > COS_SIM_THRESHOLD and \\\n",
    "        (co_occurrence.col[i], co_occurrence.row[i]) not in pairs_275 and \\\n",
    "        (co_occurrence.row[i] != co_occurrence.col[i]):\n",
    "        pairs_275.add((co_occurrence.row[i], co_occurrence.col[i]))\n",
    "print(f\"Length of pairs: {len(pairs_275)}\")\n",
    "# 100%|██████████| 151069450/151069450 [01:35<00:00, 1582510.79it/s]\n",
    "# Length of pairs: 19236\n",
    "with open(f'pairs/{category}.pkl', 'wb') as f:\n",
    "    pickle.dump(pairs_275, f)\n",
    "\n",
    "\n",
    "from collections import defaultdict\n",
    "item_cnt = defaultdict(int)\n",
    "for i, j in pairs_275:\n",
    "    item_cnt[i] += 1\n",
    "    item_cnt[j] += 1\n",
    "\n",
    "all_items = torch.tensor(list(item_cnt.keys()))\n",
    "\n",
    "guide_model_text_embedding = torch.load(f'guide_model_text_embeddings/{category}.pt')\n",
    "guide_model_text_embedding = guide_model_text_embedding.cuda()\n",
    "\n",
    "sim = 0\n",
    "cnt = 0\n",
    "for i in tqdm(range(len(all_items))):\n",
    "    item_i = all_items[i].unsqueeze(-1).cuda()\n",
    "    emb_i = guide_model_text_embedding(item_i)\n",
    "    emb_i = torch.nn.functional.normalize(emb_i, p=2, dim=1)\n",
    "    item_j = all_items[i + 1:]\n",
    "    for start in range(0, len(item_j), BATCH_SIZE):\n",
    "        end = min(start + BATCH_SIZE, len(all_items))\n",
    "        batch_item_j = item_j[start:end].cuda()\n",
    "        emb_j = guide_model_text_embedding(batch_item_j)\n",
    "        emb_j = torch.nn.functional.normalize(emb_j, p=2, dim=1)\n",
    "        sim += (emb_i * emb_j).sum()\n",
    "        cnt += end - start\n",
    "\n",
    "avg_sim = sim / cnt\n",
    "avg_sim # 0.4899\n",
    "\n",
    "# 100%|██████████| 12953/12953 [01:07<00:00, 190.60it/s] \n",
    "# tensor(0.4899, device='cuda:0')"
   ]
  },
  {
   "cell_type": "markdown",
   "metadata": {},
   "source": [
    "# Movies_and_TV"
   ]
  },
  {
   "cell_type": "code",
   "execution_count": null,
   "metadata": {},
   "outputs": [],
   "source": [
    "category = 'Movies_and_TV'\n",
    "co_occurrence = load_npz(f'co_occurrence/{category}.npz')\n",
    "co_occurrence = co_occurrence.tocoo()\n",
    "sim = pickle.load(open(f'cos_sim_of_co_occurence/{category}.pkl', 'rb'))\n",
    "\n",
    "CO_OCCURENCE_THRESHOLD = 0.2\n",
    "COS_SIM_THRESHOLD = 0.65\n",
    "pairs_265 = set()\n",
    "for i in tqdm(range(len(sim))):\n",
    "    if co_occurrence.data[i] > CO_OCCURENCE_THRESHOLD and sim[i] > COS_SIM_THRESHOLD and \\\n",
    "        (co_occurrence.col[i], co_occurrence.row[i]) not in pairs_265 and \\\n",
    "        (co_occurrence.row[i] != co_occurrence.col[i]):\n",
    "        pairs_265.add((co_occurrence.row[i], co_occurrence.col[i]))\n",
    "print(f\"Length of pairs: {len(pairs_265)}\")\n",
    "# 100%|██████████| 264980832/264980832 [03:02<00:00, 1449614.89it/s]\n",
    "# Length of pairs: 89280\n",
    "\n",
    "CO_OCCURENCE_THRESHOLD = 0.2\n",
    "COS_SIM_THRESHOLD = 0.8\n",
    "pairs_28 = set()\n",
    "for i in tqdm(range(len(sim))):\n",
    "    if co_occurrence.data[i] > CO_OCCURENCE_THRESHOLD and sim[i] > COS_SIM_THRESHOLD and \\\n",
    "        (co_occurrence.col[i], co_occurrence.row[i]) not in pairs_28 and \\\n",
    "        (co_occurrence.row[i] != co_occurrence.col[i]):\n",
    "        pairs_28.add((co_occurrence.row[i], co_occurrence.col[i]))\n",
    "print(f\"Length of pairs: {len(pairs_28)}\")\n",
    "# 100%|██████████| 264980832/264980832 [03:01<00:00, 1463827.76it/s]\n",
    "# Length of pairs: 55040\n",
    "\n",
    "CO_OCCURENCE_THRESHOLD = 0.3\n",
    "COS_SIM_THRESHOLD = 0.8\n",
    "pairs_38 = set()\n",
    "for i in tqdm(range(len(sim))):\n",
    "    if co_occurrence.data[i] > CO_OCCURENCE_THRESHOLD and sim[i] > COS_SIM_THRESHOLD and \\\n",
    "        (co_occurrence.col[i], co_occurrence.row[i]) not in pairs_38 and \\\n",
    "        (co_occurrence.row[i] != co_occurrence.col[i]):\n",
    "        pairs_38.add((co_occurrence.row[i], co_occurrence.col[i]))\n",
    "print(f\"Length of pairs: {len(pairs_38)}\")\n",
    "# 100%|██████████| 264980832/264980832 [02:46<00:00, 1589757.96it/s]\n",
    "# Length of pairs: 20212\n",
    "with open(f'pairs/{category}.pkl', 'wb') as f:\n",
    "    pickle.dump(pairs_38, f)\n",
    "\n",
    "\n",
    "from collections import defaultdict\n",
    "item_cnt = defaultdict(int)\n",
    "for i, j in pairs_38:\n",
    "    item_cnt[i] += 1\n",
    "    item_cnt[j] += 1\n",
    "\n",
    "all_items = torch.tensor(list(item_cnt.keys()))\n",
    "\n",
    "guide_model_text_embedding = torch.load(f'guide_model_text_embeddings/{category}.pt')\n",
    "guide_model_text_embedding = guide_model_text_embedding.cuda()\n",
    "\n",
    "sim = 0\n",
    "cnt = 0\n",
    "for i in tqdm(range(len(all_items))):\n",
    "    item_i = all_items[i].unsqueeze(-1).cuda()\n",
    "    emb_i = guide_model_text_embedding(item_i)\n",
    "    emb_i = torch.nn.functional.normalize(emb_i, p=2, dim=1)\n",
    "    item_j = all_items[i + 1:]\n",
    "    for start in range(0, len(item_j), BATCH_SIZE):\n",
    "        end = min(start + BATCH_SIZE, len(all_items))\n",
    "        batch_item_j = item_j[start:end].cuda()\n",
    "        emb_j = guide_model_text_embedding(batch_item_j)\n",
    "        emb_j = torch.nn.functional.normalize(emb_j, p=2, dim=1)\n",
    "        sim += (emb_i * emb_j).sum()\n",
    "        cnt += end - start\n",
    "\n",
    "avg_sim = sim / cnt\n",
    "avg_sim # 0.4949\n",
    "\n",
    "# 100%|██████████| 18196/18196 [02:23<00:00, 126.87it/s] \n",
    "# tensor(0.4949, device='cuda:0')"
   ]
  },
  {
   "cell_type": "markdown",
   "metadata": {},
   "source": [
    "# Pet_Supplies"
   ]
  },
  {
   "cell_type": "code",
   "execution_count": null,
   "metadata": {},
   "outputs": [],
   "source": [
    "category = 'Pet_Supplies'\n",
    "co_occurrence = load_npz(f'co_occurrence/{category}.npz')\n",
    "co_occurrence = co_occurrence.tocoo()\n",
    "sim = pickle.load(open(f'cos_sim_of_co_occurence/{category}.pkl', 'rb'))\n",
    "\n",
    "CO_OCCURENCE_THRESHOLD = 0.2\n",
    "COS_SIM_THRESHOLD = 0.65\n",
    "pairs_265 = set()\n",
    "for i in tqdm(range(len(sim))):\n",
    "    if co_occurrence.data[i] > CO_OCCURENCE_THRESHOLD and sim[i] > COS_SIM_THRESHOLD and \\\n",
    "        (co_occurrence.col[i], co_occurrence.row[i]) not in pairs_265 and \\\n",
    "        (co_occurrence.row[i] != co_occurrence.col[i]):\n",
    "        pairs_265.add((co_occurrence.row[i], co_occurrence.col[i]))\n",
    "print(f\"Length of pairs: {len(pairs_265)}\")\n",
    "# 0%|          | 0/60342046 [00:00<?, ?it/s]\n",
    "# 100%|██████████| 60342046/60342046 [00:34<00:00, 1764988.17it/s]\n",
    "# Length of pairs: 854\n",
    "with open(f'pairs/{category}.pkl', 'wb') as f:\n",
    "    pickle.dump(pairs_265, f)\n",
    "\n",
    "from collections import defaultdict\n",
    "item_cnt = defaultdict(int)\n",
    "for i, j in pairs_265:\n",
    "    item_cnt[i] += 1\n",
    "    item_cnt[j] += 1\n",
    "\n",
    "all_items = torch.tensor(list(item_cnt.keys()))\n",
    "\n",
    "guide_model_text_embedding = torch.load(f'guide_model_text_embeddings/{category}.pt')\n",
    "guide_model_text_embedding = guide_model_text_embedding.cuda()\n",
    "\n",
    "sim = 0\n",
    "cnt = 0\n",
    "for i in tqdm(range(len(all_items))):\n",
    "    item_i = all_items[i].unsqueeze(-1).cuda()\n",
    "    emb_i = guide_model_text_embedding(item_i)\n",
    "    emb_i = torch.nn.functional.normalize(emb_i, p=2, dim=1)\n",
    "    item_j = all_items[i + 1:]\n",
    "    for start in range(0, len(item_j), BATCH_SIZE):\n",
    "        end = min(start + BATCH_SIZE, len(all_items))\n",
    "        batch_item_j = item_j[start:end].cuda()\n",
    "        emb_j = guide_model_text_embedding(batch_item_j)\n",
    "        emb_j = torch.nn.functional.normalize(emb_j, p=2, dim=1)\n",
    "        sim += (emb_i * emb_j).sum()\n",
    "        cnt += end - start\n",
    "\n",
    "avg_sim = sim / cnt\n",
    "avg_sim # 0.5004\n",
    "# 100%|██████████| 7939/7939 [00:28<00:00, 273.94it/s] \n",
    "# tensor(0.5004, device='cuda:0')"
   ]
  },
  {
   "cell_type": "markdown",
   "metadata": {},
   "source": [
    "# Software"
   ]
  },
  {
   "cell_type": "code",
   "execution_count": null,
   "metadata": {},
   "outputs": [],
   "source": [
    "category = 'Software'\n",
    "co_occurrence = load_npz(f'co_occurrence/{category}.npz')\n",
    "co_occurrence = co_occurrence.tocoo()\n",
    "sim = pickle.load(open(f'cos_sim_of_co_occurence/{category}.pkl', 'rb'))\n",
    "\n",
    "CO_OCCURENCE_THRESHOLD = 0.2\n",
    "COS_SIM_THRESHOLD = 0.65\n",
    "pairs_265 = set()\n",
    "for i in tqdm(range(len(sim))):\n",
    "    if co_occurrence.data[i] > CO_OCCURENCE_THRESHOLD and sim[i] > COS_SIM_THRESHOLD and \\\n",
    "        (co_occurrence.col[i], co_occurrence.row[i]) not in pairs_265 and \\\n",
    "        (co_occurrence.row[i] != co_occurrence.col[i]):\n",
    "        pairs_265.add((co_occurrence.row[i], co_occurrence.col[i]))\n",
    "print(f\"Length of pairs: {len(pairs_265)}\")\n",
    "#   2%|▏         | 153030/7488958 [00:00<00:04, 1530239.44it/s]\n",
    "# 100%|██████████| 7488958/7488958 [00:04<00:00, 1521306.30it/s]\n",
    "# Length of pairs: 4336\n",
    "with open(f'pairs/{category}.pkl', 'wb') as f:\n",
    "    pickle.dump(pairs_265, f)\n",
    "\n",
    "\n",
    "from collections import defaultdict\n",
    "item_cnt = defaultdict(int)\n",
    "for i, j in pairs_265:\n",
    "    item_cnt[i] += 1\n",
    "    item_cnt[j] += 1\n",
    "\n",
    "all_items = torch.tensor(list(item_cnt.keys()))\n",
    "\n",
    "guide_model_text_embedding = torch.load(f'guide_model_text_embeddings/{category}.pt')\n",
    "guide_model_text_embedding = guide_model_text_embedding.cuda()\n",
    "\n",
    "sim = 0\n",
    "cnt = 0\n",
    "for i in tqdm(range(len(all_items))):\n",
    "    item_i = all_items[i].unsqueeze(-1).cuda()\n",
    "    emb_i = guide_model_text_embedding(item_i)\n",
    "    emb_i = torch.nn.functional.normalize(emb_i, p=2, dim=1)\n",
    "    item_j = all_items[i + 1:]\n",
    "    for start in range(0, len(item_j), BATCH_SIZE):\n",
    "        end = min(start + BATCH_SIZE, len(all_items))\n",
    "        batch_item_j = item_j[start:end].cuda()\n",
    "        emb_j = guide_model_text_embedding(batch_item_j)\n",
    "        emb_j = torch.nn.functional.normalize(emb_j, p=2, dim=1)\n",
    "        sim += (emb_i * emb_j).sum()\n",
    "        cnt += end - start\n",
    "\n",
    "avg_sim = sim / cnt\n",
    "avg_sim # 0.4403\n",
    "\n",
    "# 100%|██████████| 3437/3437 [00:04<00:00, 703.33it/s] \n",
    "# tensor(0.4403, device='cuda:0')"
   ]
  },
  {
   "cell_type": "markdown",
   "metadata": {},
   "source": [
    "# Home_and_Kitchen"
   ]
  },
  {
   "cell_type": "code",
   "execution_count": null,
   "metadata": {},
   "outputs": [],
   "source": [
    "category = 'Home_and_Kitchen'\n",
    "co_occurrence = load_npz(f'co_occurrence/{category}.npz')\n",
    "co_occurrence = co_occurrence.tocoo()\n",
    "sim = pickle.load(open(f'cos_sim_of_co_occurence/{category}.pkl', 'rb'))\n",
    "\n",
    "CO_OCCURENCE_THRESHOLD = 0.3\n",
    "COS_SIM_THRESHOLD = 0.9\n",
    "pairs_39 = set()\n",
    "for i in tqdm(range(len(sim))):\n",
    "    if co_occurrence.data[i] > CO_OCCURENCE_THRESHOLD and sim[i] > COS_SIM_THRESHOLD and \\\n",
    "        (co_occurrence.col[i], co_occurrence.row[i]) not in pairs_39 and \\\n",
    "        (co_occurrence.row[i] != co_occurrence.col[i]):\n",
    "        pairs_39.add((co_occurrence.row[i], co_occurrence.col[i]))\n",
    "print(f\"Length of pairs: {len(pairs_39)}\")\n",
    "# 100%|██████████| 520756772/520756772 [06:06<00:00, 1422714.58it/s]\n",
    "# Length of pairs: 1477\n",
    "\n",
    "CO_OCCURENCE_THRESHOLD = 0.3\n",
    "COS_SIM_THRESHOLD = 0.8\n",
    "pairs_38 = set()\n",
    "for i in tqdm(range(len(sim))):\n",
    "    if co_occurrence.data[i] > CO_OCCURENCE_THRESHOLD and sim[i] > COS_SIM_THRESHOLD and \\\n",
    "        (co_occurrence.col[i], co_occurrence.row[i]) not in pairs_38 and \\\n",
    "        (co_occurrence.row[i] != co_occurrence.col[i]):\n",
    "        pairs_38.add((co_occurrence.row[i], co_occurrence.col[i]))\n",
    "print(f\"Length of pairs: {len(pairs_38)}\")\n",
    "# 54%|█████▎    | 278898748/520756772 [03:13<02:45, 1462273.93it/s]IOStream.flush timed out\n",
    "# 100%|██████████| 520756772/520756772 [06:55<00:00, 1253529.14it/s]\n",
    "# Length of pairs: 3357\n",
    "with open(f'pairs/{category}.pkl', 'wb') as f:\n",
    "    pickle.dump(pairs_38, f)\n",
    "\n",
    "from collections import defaultdict\n",
    "item_cnt = defaultdict(int)\n",
    "for i, j in pairs_38:\n",
    "    item_cnt[i] += 1\n",
    "    item_cnt[j] += 1\n",
    "\n",
    "all_items = torch.tensor(list(item_cnt.keys()))\n",
    "\n",
    "guide_model_text_embedding = torch.load(f'guide_model_text_embeddings/{category}.pt')\n",
    "guide_model_text_embedding = guide_model_text_embedding.cuda()\n",
    "\n",
    "sim = 0\n",
    "cnt = 0\n",
    "for i in tqdm(range(len(all_items))):\n",
    "    item_i = all_items[i].unsqueeze(-1).cuda()\n",
    "    emb_i = guide_model_text_embedding(item_i)\n",
    "    emb_i = torch.nn.functional.normalize(emb_i, p=2, dim=1)\n",
    "    item_j = all_items[i + 1:]\n",
    "    for start in range(0, len(item_j), BATCH_SIZE):\n",
    "        end = min(start + BATCH_SIZE, len(all_items))\n",
    "        batch_item_j = item_j[start:end].cuda()\n",
    "        emb_j = guide_model_text_embedding(batch_item_j)\n",
    "        emb_j = torch.nn.functional.normalize(emb_j, p=2, dim=1)\n",
    "        sim += (emb_i * emb_j).sum()\n",
    "        cnt += end - start\n",
    "\n",
    "avg_sim = sim / cnt\n",
    "avg_sim\n",
    "# 100%|██████████| 5178/5178 [00:07<00:00, 677.32it/s] \n",
    "# tensor(0.4368, device='cuda:0')"
   ]
  }
 ],
 "metadata": {
  "kernelspec": {
   "display_name": "rec",
   "language": "python",
   "name": "python3"
  },
  "language_info": {
   "codemirror_mode": {
    "name": "ipython",
    "version": 3
   },
   "file_extension": ".py",
   "mimetype": "text/x-python",
   "name": "python",
   "nbconvert_exporter": "python",
   "pygments_lexer": "ipython3",
   "version": "3.11.3"
  }
 },
 "nbformat": 4,
 "nbformat_minor": 2
}
