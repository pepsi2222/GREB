{
 "cells": [
  {
   "cell_type": "code",
   "execution_count": 2,
   "metadata": {},
   "outputs": [],
   "source": [
    "categories=(\n",
    "    \"Alabama\",\n",
    "    \"Arkansas\", \n",
    "    \"Connecticut\",\n",
    "    \"Delaware\",\n",
    "    \"District_of_Columbia\",\n",
    "    \"Florida\",\n",
    "    \"Hawaii\",\n",
    "    \"Idaho\",\n",
    "    \"Maine\",\n",
    "    \"Mississippi\",\n",
    "    \"Montana\",\n",
    "    \"Nebraska\",\n",
    "    \"New_Hampshire\",\n",
    "    \"New_Mexico\",\n",
    "    \"North_Dakota\",\n",
    "    \"Rhode_Island\",\n",
    "    \"South_Dakota\",\n",
    "    \"Vermont\",\n",
    "    \"West_Virginia\",\n",
    "    \"Wyoming\",\n",
    ")"
   ]
  },
  {
   "cell_type": "code",
   "execution_count": 4,
   "metadata": {},
   "outputs": [
    {
     "name": "stdout",
     "output_type": "stream",
     "text": [
      "Alabama 10798\n",
      "Arkansas 6776\n",
      "Connecticut 9013\n",
      "Delaware 2357\n",
      "District_of_Columbia 2815\n",
      "Florida 54602\n",
      "Hawaii 4465\n",
      "Idaho 3966\n",
      "Maine 3706\n",
      "Mississippi 6142\n",
      "Montana 2657\n",
      "Nebraska 4513\n",
      "New_Hampshire 3504\n",
      "New_Mexico 4775\n",
      "North_Dakota 1639\n",
      "Rhode_Island 2977\n",
      "South_Dakota 1951\n",
      "Vermont 1680\n",
      "West_Virginia 3659\n",
      "Wyoming 1525\n"
     ]
    }
   ],
   "source": [
    "import json\n",
    "for c in categories:\n",
    "    print(c, len(json.load(open(f'/data1/home/xingmei/GRE/data/GoogleLocalData/Food/extracted_review/{c}.json'))))"
   ]
  },
  {
   "cell_type": "code",
   "execution_count": 5,
   "metadata": {},
   "outputs": [
    {
     "name": "stdout",
     "output_type": "stream",
     "text": [
      "Alabama 178.0585293572884\n",
      "Arkansas 151.64507083825265\n",
      "Connecticut 118.43148785088206\n",
      "Delaware 159.6092490453967\n",
      "District_of_Columbia 152.2898756660746\n",
      "Florida 234.86311856708545\n",
      "Hawaii 144.41679731243002\n",
      "Idaho 190.3166918809884\n",
      "Maine 124.73826227738802\n",
      "Mississippi 129.7007489417128\n",
      "Montana 139.88219796763266\n",
      "Nebraska 139.34367383115443\n",
      "New_Hampshire 146.88327625570776\n",
      "New_Mexico 202.76795811518323\n",
      "North_Dakota 127.53935326418548\n",
      "Rhode_Island 126.85253611017804\n",
      "South_Dakota 130.65094823167607\n",
      "Vermont 100.10238095238095\n",
      "West_Virginia 117.8352008745559\n",
      "Wyoming 143.03737704918032\n"
     ]
    }
   ],
   "source": [
    "import json\n",
    "for c in categories:\n",
    "    d = json.load(open(f'/data1/home/xingmei/GRE/data/GoogleLocalData/Food/extracted_review/{c}.json'))\n",
    "    print(c, sum([len(_) for _ in d.values()]) / len(d))"
   ]
  },
  {
   "cell_type": "code",
   "execution_count": 3,
   "metadata": {},
   "outputs": [],
   "source": [
    "from llama import Tokenizer\n",
    "import json\n",
    "tokenizer = Tokenizer(model_path='/data1/home/xingmei/llama3-demo/llama3/Meta-Llama-3-8B-Instruct/tokenizer.model')\n",
    "d = json.load(open(f'/data1/home/xingmei/GRE/data/GoogleLocalData/Food/extracted_review/Alabama.json'))\n",
    "len_ = sum([len(_) for _ in d.values()])\n",
    "all = sum([len(tokenizer.encode(_, bos=True, eos=True)) for l in d.values() for _ in l])"
   ]
  },
  {
   "cell_type": "code",
   "execution_count": 4,
   "metadata": {},
   "outputs": [
    {
     "data": {
      "text/plain": [
       "29.46573733692"
      ]
     },
     "execution_count": 4,
     "metadata": {},
     "output_type": "execute_result"
    }
   ],
   "source": [
    "all / len_"
   ]
  },
  {
   "cell_type": "code",
   "execution_count": 5,
   "metadata": {},
   "outputs": [
    {
     "data": {
      "text/plain": [
       "4500"
      ]
     },
     "execution_count": 5,
     "metadata": {},
     "output_type": "execute_result"
    }
   ],
   "source": [
    "30 * 150"
   ]
  }
 ],
 "metadata": {
  "kernelspec": {
   "display_name": "rec",
   "language": "python",
   "name": "python3"
  },
  "language_info": {
   "codemirror_mode": {
    "name": "ipython",
    "version": 3
   },
   "file_extension": ".py",
   "mimetype": "text/x-python",
   "name": "python",
   "nbconvert_exporter": "python",
   "pygments_lexer": "ipython3",
   "version": "3.11.3"
  }
 },
 "nbformat": 4,
 "nbformat_minor": 2
}
