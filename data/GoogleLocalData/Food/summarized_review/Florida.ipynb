{
 "cells": [
  {
   "cell_type": "code",
   "execution_count": 2,
   "metadata": {},
   "outputs": [],
   "source": [
    "import json"
   ]
  },
  {
   "cell_type": "code",
   "execution_count": 1,
   "metadata": {},
   "outputs": [],
   "source": [
    "category = 'Florida'"
   ]
  },
  {
   "cell_type": "code",
   "execution_count": 3,
   "metadata": {},
   "outputs": [
    {
     "name": "stderr",
     "output_type": "stream",
     "text": [
      "100%|██████████| 54603/54603 [02:21<00:00, 385.86it/s]\n"
     ]
    }
   ],
   "source": [
    "from tqdm import tqdm\n",
    "from llama import Tokenizer\n",
    "from llama.tokenizer import ChatFormat\n",
    "\n",
    "max_seq_len = 1024\n",
    "\n",
    "tokenizer = Tokenizer(\n",
    "                model_path='/data1/home/xingmei/llama3-demo/llama3/Meta-Llama-3-8B-Instruct/tokenizer.model',                                                                                            \n",
    "            )\n",
    "formatter = ChatFormat(tokenizer)\n",
    "\n",
    "review = json.load(open(f'/data1/home/xingmei/GRE/data/GoogleLocalData/Food/extracted_review/{category}.json'))\n",
    "            \n",
    "dialogs = []\n",
    "gmap_ids = []\n",
    "for gmap_id, texts in tqdm(review.items()):\n",
    "\n",
    "    dialog = [\n",
    "        # {\n",
    "        #     \"role\": \"system\",\n",
    "        #     \"content\": \"You are an excellent review summarizer.\",\n",
    "        # },\n",
    "        {   \"role\": \"user\", \n",
    "            \"content\": \"\"\"Given the user reviews of a restaurant, craft a concise summary that captures the restaurant's characteristics.\n",
    "\n",
    "[User Reviews]\n",
    "\"\"\"         },\n",
    "    ] \n",
    "    token_left = max_seq_len - len(formatter.encode_dialog_prompt(dialog))\n",
    "\n",
    "    gmap_ids.append(gmap_id)\n",
    "    prompt = ''\n",
    "    for i, text in enumerate(texts):\n",
    "        token_len = len(tokenizer.encode(text, bos=True, eos=True))\n",
    "        token_left -= token_len\n",
    "        if token_left < 0:\n",
    "            break\n",
    "        prompt += f\"{i + 1}. {text}\\n\"\n",
    "    dialog[-1]['content'] += prompt\n",
    "    assert len(formatter.encode_dialog_prompt(dialog)) <= max_seq_len + 100, len(formatter.encode_dialog_prompt(dialog))\n",
    "\n",
    "    dialogs.append(dialog)"
   ]
  },
  {
   "cell_type": "code",
   "execution_count": 4,
   "metadata": {},
   "outputs": [],
   "source": [
    "with open(f'/data1/home/xingmei/GRE/data/GoogleLocalData/Food/extracted_review/prompt_{category}.json', 'w') as f:\n",
    "    json.dump([dialogs, gmap_ids], f)"
   ]
  },
  {
   "cell_type": "code",
   "execution_count": 5,
   "metadata": {},
   "outputs": [
    {
     "data": {
      "text/plain": [
       "54603"
      ]
     },
     "execution_count": 5,
     "metadata": {},
     "output_type": "execute_result"
    }
   ],
   "source": [
    "len(gmap_ids)"
   ]
  },
  {
   "cell_type": "code",
   "execution_count": 6,
   "metadata": {},
   "outputs": [
    {
     "data": {
      "text/plain": [
       "[{'role': 'user',\n",
       "  'content': \"Given the user reviews of a restaurant, craft a concise summary that captures the restaurant's characteristics.\\n\\n[User Reviews]\\n1. Great small place I did know peruvian cusine was so good. I will go back\\n\"}]"
      ]
     },
     "execution_count": 6,
     "metadata": {},
     "output_type": "execute_result"
    }
   ],
   "source": [
    "dialogs[0]"
   ]
  },
  {
   "cell_type": "code",
   "execution_count": 7,
   "metadata": {},
   "outputs": [
    {
     "data": {
      "text/plain": [
       "53"
      ]
     },
     "execution_count": 7,
     "metadata": {},
     "output_type": "execute_result"
    }
   ],
   "source": [
    "len(formatter.encode_dialog_prompt(dialogs[0]))"
   ]
  },
  {
   "cell_type": "code",
   "execution_count": 8,
   "metadata": {},
   "outputs": [
    {
     "name": "stdout",
     "output_type": "stream",
     "text": [
      "Given the user reviews of a restaurant, craft a concise summary that captures the restaurant's characteristics.\n",
      "\n",
      "[User Reviews]\n",
      "1. Great small place I did know peruvian cusine was so good. I will go back\n",
      "\n"
     ]
    }
   ],
   "source": [
    "print(dialogs[0][-1]['content'])"
   ]
  },
  {
   "cell_type": "code",
   "execution_count": 9,
   "metadata": {},
   "outputs": [
    {
     "data": {
      "text/plain": [
       "['Great small place I did know peruvian cusine was so good. I will go back']"
      ]
     },
     "execution_count": 9,
     "metadata": {},
     "output_type": "execute_result"
    }
   ],
   "source": [
    "review[gmap_ids[0]]"
   ]
  }
 ],
 "metadata": {
  "kernelspec": {
   "display_name": "rec",
   "language": "python",
   "name": "python3"
  },
  "language_info": {
   "codemirror_mode": {
    "name": "ipython",
    "version": 3
   },
   "file_extension": ".py",
   "mimetype": "text/x-python",
   "name": "python",
   "nbconvert_exporter": "python",
   "pygments_lexer": "ipython3",
   "version": "3.11.3"
  }
 },
 "nbformat": 4,
 "nbformat_minor": 2
}
