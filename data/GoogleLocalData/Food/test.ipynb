{
 "cells": [
  {
   "cell_type": "code",
   "execution_count": 4,
   "metadata": {},
   "outputs": [
    {
     "name": "stdout",
     "output_type": "stream",
     "text": [
      "3706 3706\n"
     ]
    }
   ],
   "source": [
    "import json\n",
    "\n",
    "category = 'Maine'\n",
    "d = json.load(open(f'/data1/home/xingmei/GRE/data/GoogleLocalData/Food/summarized_review/{category}_0_100000.json'))\n",
    "dd = json.load(open(f'/data1/home/xingmei/GRE/data/GoogleLocalData/Food/extracted_review/{category}.json'))\n",
    "print(len(d), len(dd))"
   ]
  }
 ],
 "metadata": {
  "kernelspec": {
   "display_name": "rec",
   "language": "python",
   "name": "python3"
  },
  "language_info": {
   "codemirror_mode": {
    "name": "ipython",
    "version": 3
   },
   "file_extension": ".py",
   "mimetype": "text/x-python",
   "name": "python",
   "nbconvert_exporter": "python",
   "pygments_lexer": "ipython3",
   "version": "3.11.3"
  }
 },
 "nbformat": 4,
 "nbformat_minor": 2
}
