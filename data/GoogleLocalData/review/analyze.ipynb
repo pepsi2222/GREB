{
 "cells": [
  {
   "cell_type": "code",
   "execution_count": 2,
   "metadata": {},
   "outputs": [],
   "source": [
    "import json\n",
    "\n",
    "categories=(\n",
    "    \"Alabama\",\n",
    "    \"Alaska\",\n",
    "    \"Arizona\",\n",
    "    \"Arkansas\",\n",
    "    \"California\",\n",
    "    \"Colorado\",\n",
    "    \"Connecticut\",\n",
    "    \"Delaware\",\n",
    "    \"District_of_Columbia\",\n",
    "    \"Florida\",\n",
    "    \"Georgia\",\n",
    "    \"Hawaii\",\n",
    "    \"Idaho\",\n",
    "    \"Illinois\",\n",
    "    \"Indiana\",\n",
    "    \"Iowa\",\n",
    "    \"Kansas\",\n",
    "    \"Kentucky\",\n",
    "    \"Louisiana\",\n",
    "    \"Maine\",\n",
    "    \"Maryland\",\n",
    "    \"Massachusetts\",\n",
    "    \"Michigan\",\n",
    "    \"Minnesota\",\n",
    "    \"Mississippi\",\n",
    "    \"Missouri\",\n",
    "    \"Montana\",\n",
    "    \"Nebraska\",\n",
    "    \"Nevada\",\n",
    "    \"New_Hampshire\",\n",
    "    \"New_Jersey\",\n",
    "    \"New_Mexico\",\n",
    "    \"New_York\",\n",
    "    \"North_Carolina\",\n",
    "    \"North_Dakota\",\n",
    "    \"Ohio\",\n",
    "    \"Oklahoma\",\n",
    "    \"Oregon\",\n",
    "    \"Pennsylvania\",\n",
    "    \"Rhode_Island\",\n",
    "    \"South_Carolina\",\n",
    "    \"South_Dakota\",\n",
    "    \"Tennessee\",\n",
    "    \"Texas\",\n",
    "    \"Utah\",\n",
    "    \"Vermont\",\n",
    "    \"Virginia\",\n",
    "    \"Washington\",\n",
    "    \"West_Virginia\",\n",
    "    \"Wisconsin\",\n",
    "    \"Wyoming\"\n",
    ")\n"
   ]
  },
  {
   "cell_type": "markdown",
   "metadata": {},
   "source": [
    "## examples"
   ]
  },
  {
   "cell_type": "code",
   "execution_count": 2,
   "metadata": {},
   "outputs": [
    {
     "data": {
      "text/plain": [
       "{'user_id': '103378997989317552200',\n",
       " 'name': 'Hadley Coan',\n",
       " 'time': 1626307876654,\n",
       " 'rating': 5,\n",
       " 'text': 'Love this little local shop. I shopped for my own kids at Purple Peanut over 25 years ago and now I get to shop here for my grandchildren! They have the best selection of clothing and shoes for infants though early childhood plus fun gifts for birthday parties and more! Their great customer service is a bonus. :)',\n",
       " 'pics': None,\n",
       " 'resp': None,\n",
       " 'gmap_id': '0x8862134e67ff5c87:0x38b5e2ae99cd1fcf'}"
      ]
     },
     "execution_count": 2,
     "metadata": {},
     "output_type": "execute_result"
    }
   ],
   "source": [
    "import subprocess\n",
    "\n",
    "json.loads(\n",
    "    subprocess.run(\"sed -n '1{p;q;}' Alabama.json\", shell=True, check=True, stdout=subprocess.PIPE, stderr=subprocess.PIPE, text=True).stdout)"
   ]
  },
  {
   "cell_type": "code",
   "execution_count": 3,
   "metadata": {},
   "outputs": [
    {
     "data": {
      "text/plain": [
       "{'user_id': '100892169862531984043',\n",
       " 'name': 'Cleophus Adkins',\n",
       " 'time': 1529184622477,\n",
       " 'rating': 5,\n",
       " 'text': None,\n",
       " 'pics': None,\n",
       " 'resp': None,\n",
       " 'gmap_id': '0x8862134e67ff5c87:0x38b5e2ae99cd1fcf'}"
      ]
     },
     "execution_count": 3,
     "metadata": {},
     "output_type": "execute_result"
    }
   ],
   "source": [
    "import subprocess\n",
    "import json\n",
    "\n",
    "json.loads(\n",
    "    subprocess.run(\"sed -n '10{p;q;}' Alabama.json\", shell=True, check=True, stdout=subprocess.PIPE, stderr=subprocess.PIPE, text=True).stdout)"
   ]
  },
  {
   "cell_type": "code",
   "execution_count": 4,
   "metadata": {},
   "outputs": [
    {
     "data": {
      "text/plain": [
       "{'user_id': '114563700495459131120',\n",
       " 'name': 'Jordan Cory',\n",
       " 'time': 1530120522316,\n",
       " 'rating': 5,\n",
       " 'text': 'The hot dogs were honestly I a lot better than what I was expected. The bun is super tasty and what makes Hale Pops so different is their toppings. They give a Hawaiian twist to hot dogs.',\n",
       " 'pics': None,\n",
       " 'resp': None,\n",
       " 'gmap_id': '0x7c00456eecad3111:0x8217f9600c51f33'}"
      ]
     },
     "execution_count": 4,
     "metadata": {},
     "output_type": "execute_result"
    }
   ],
   "source": [
    "import subprocess\n",
    "import json\n",
    "\n",
    "json.loads(\n",
    "    subprocess.run(\"sed -n '10{p;q;}' Hawaii.json\", shell=True, check=True, stdout=subprocess.PIPE, stderr=subprocess.PIPE, text=True).stdout)"
   ]
  },
  {
   "cell_type": "code",
   "execution_count": 5,
   "metadata": {},
   "outputs": [
    {
     "name": "stdout",
     "output_type": "stream",
     "text": [
      "name: Hadley Coan\n"
     ]
    },
    {
     "ename": "KeyError",
     "evalue": "'category'",
     "output_type": "error",
     "traceback": [
      "\u001b[0;31m---------------------------------------------------------------------------\u001b[0m",
      "\u001b[0;31mKeyError\u001b[0m                                  Traceback (most recent call last)",
      "Cell \u001b[0;32mIn[5], line 12\u001b[0m\n\u001b[1;32m     10\u001b[0m r \u001b[38;5;241m=\u001b[39m json\u001b[38;5;241m.\u001b[39mloads(r)\n\u001b[1;32m     11\u001b[0m \u001b[38;5;28mprint\u001b[39m(\u001b[38;5;124mf\u001b[39m\u001b[38;5;124m\"\u001b[39m\u001b[38;5;124mname: \u001b[39m\u001b[38;5;132;01m{\u001b[39;00mr[\u001b[38;5;124m'\u001b[39m\u001b[38;5;124mname\u001b[39m\u001b[38;5;124m'\u001b[39m]\u001b[38;5;132;01m}\u001b[39;00m\u001b[38;5;124m\"\u001b[39m)\n\u001b[0;32m---> 12\u001b[0m \u001b[38;5;28mprint\u001b[39m(\u001b[38;5;124mf\u001b[39m\u001b[38;5;124m\"\u001b[39m\u001b[38;5;124mcategory: \u001b[39m\u001b[38;5;132;01m{\u001b[39;00m\u001b[38;5;124m'\u001b[39m\u001b[38;5;124m | \u001b[39m\u001b[38;5;124m'\u001b[39m\u001b[38;5;241m.\u001b[39mjoin(\u001b[43mr\u001b[49m\u001b[43m[\u001b[49m\u001b[38;5;124;43m'\u001b[39;49m\u001b[38;5;124;43mcategory\u001b[39;49m\u001b[38;5;124;43m'\u001b[39;49m\u001b[43m]\u001b[49m)\u001b[38;5;132;01m}\u001b[39;00m\u001b[38;5;124m\"\u001b[39m)\n\u001b[1;32m     13\u001b[0m \u001b[38;5;28mprint\u001b[39m(\u001b[38;5;124mf\u001b[39m\u001b[38;5;124m\"\u001b[39m\u001b[38;5;124mdescription: \u001b[39m\u001b[38;5;132;01m{\u001b[39;00mr[\u001b[38;5;124m'\u001b[39m\u001b[38;5;124mdescription\u001b[39m\u001b[38;5;124m'\u001b[39m]\u001b[38;5;132;01m}\u001b[39;00m\u001b[38;5;124m\"\u001b[39m)\n\u001b[1;32m     14\u001b[0m \u001b[38;5;28mprint\u001b[39m(\u001b[38;5;124m\"\u001b[39m\u001b[38;5;124m------------------------------------\u001b[39m\u001b[38;5;124m\"\u001b[39m)\n",
      "\u001b[0;31mKeyError\u001b[0m: 'category'"
     ]
    }
   ],
   "source": [
    "import subprocess\n",
    "\n",
    "results = []\n",
    "line_number = 1\n",
    "for c in categories:\n",
    "    results.append(\n",
    "                subprocess.run(f\"sed -n '{line_number}{{p;q;}}' {c + '.json'}\", shell=True, check=True, stdout=subprocess.PIPE, stderr=subprocess.PIPE, text=True).stdout)\n",
    "    \n",
    "for r in results:\n",
    "    r = json.loads(r)\n",
    "    print(f\"name: {r['name']}\")\n",
    "    print(f\"category: {' | '.join(r['category'])}\")\n",
    "    print(f\"description: {r['description']}\")\n",
    "    print(\"------------------------------------\")\n",
    "    # print({\n",
    "    #     'title': r['title'],\n",
    "    #     'features': r['features'],\n",
    "    #     'description': r['description']\n",
    "    # })"
   ]
  },
  {
   "cell_type": "code",
   "execution_count": 3,
   "metadata": {},
   "outputs": [
    {
     "name": "stdout",
     "output_type": "stream",
     "text": [
      "8967499 Alabama.json\n",
      "1051246 Alaska.json\n",
      "18375050 Arizona.json\n",
      "5106056 Arkansas.json\n",
      "70529977 California.json\n",
      "15681222 Colorado.json\n",
      "5181800 Connecticut.json\n",
      "1885948 Delaware.json\n",
      "1894317 District_of_Columbia.json\n",
      "61803524 Florida.json\n",
      "24060125 Georgia.json\n",
      "3111531 Hawaii.json\n",
      "3892636 Idaho.json\n",
      "23096838 Illinois.json\n",
      "12865167 Indiana.json\n",
      "4838887 Iowa.json\n",
      "5546880 Kansas.json\n",
      "7654993 Kentucky.json\n",
      "7536078 Louisiana.json\n",
      "2214773 Maine.json\n",
      "10728483 Maryland.json\n",
      "10447007 Massachusetts.json\n",
      "20776155 Michigan.json\n",
      "9520258 Minnesota.json\n",
      "3861771 Mississippi.json\n",
      "13416511 Missouri.json\n",
      "1933939 Montana.json\n",
      "3286810 Nebraska.json\n",
      "8833403 Nevada.json\n",
      "2648081 New_Hampshire.json\n",
      "15720266 New_Jersey.json\n",
      "4705389 New_Mexico.json\n",
      "33459761 New_York.json\n",
      "22299136 North_Carolina.json\n",
      "1109558 North_Dakota.json\n",
      "23039365 Ohio.json\n",
      "8482820 Oklahoma.json\n",
      "11012170 Oregon.json\n",
      "21944802 Pennsylvania.json\n",
      "1777094 Rhode_Island.json\n",
      "11995482 South_Carolina.json\n",
      "1452599 South_Dakota.json\n",
      "15951213 Tennessee.json\n",
      "66435184 Texas.json\n",
      "9081167 Utah.json\n",
      "852203 Vermont.json\n",
      "15957938 Virginia.json\n",
      "16541734 Washington.json\n",
      "2208199 West_Virginia.json\n",
      "10246685 Wisconsin.json\n",
      "1141421 Wyoming.json\n"
     ]
    }
   ],
   "source": [
    "import os\n",
    "for c in categories:\n",
    "    os.system(f'wc -l {c}.json')"
   ]
  }
 ],
 "metadata": {
  "kernelspec": {
   "display_name": "rec",
   "language": "python",
   "name": "python3"
  },
  "language_info": {
   "codemirror_mode": {
    "name": "ipython",
    "version": 3
   },
   "file_extension": ".py",
   "mimetype": "text/x-python",
   "name": "python",
   "nbconvert_exporter": "python",
   "pygments_lexer": "ipython3",
   "version": "3.11.3"
  }
 },
 "nbformat": 4,
 "nbformat_minor": 2
}
